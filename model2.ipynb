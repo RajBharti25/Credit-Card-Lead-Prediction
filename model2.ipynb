{
  "nbformat": 4,
  "nbformat_minor": 0,
  "metadata": {
    "colab": {
      "name": "model2.ipynb",
      "provenance": [],
      "collapsed_sections": [],
      "mount_file_id": "1-AeMvZ4c8vyhn6lcijly_f_HQT5DpswE",
      "authorship_tag": "ABX9TyO0QYhUkA6zHDpbtTXYD2eQ",
      "include_colab_link": true
    },
    "kernelspec": {
      "name": "python3",
      "display_name": "Python 3"
    },
    "language_info": {
      "name": "python"
    },
    "accelerator": "TPU"
  },
  "cells": [
    {
      "cell_type": "markdown",
      "metadata": {
        "id": "view-in-github",
        "colab_type": "text"
      },
      "source": [
        "<a href=\"https://colab.research.google.com/github/RajBharti25/Credit-Card-Lead-Prediction/blob/main/model2.ipynb\" target=\"_parent\"><img src=\"https://colab.research.google.com/assets/colab-badge.svg\" alt=\"Open In Colab\"/></a>"
      ]
    },
    {
      "cell_type": "code",
      "metadata": {
        "id": "CZKjB3DSGYTy"
      },
      "source": [
        "!pip install shap"
      ],
      "execution_count": null,
      "outputs": []
    },
    {
      "cell_type": "code",
      "metadata": {
        "id": "Flr421wA6fDs"
      },
      "source": [
        "import pandas as pd\n",
        "import numpy as np\n",
        "import datetime as dt\n",
        "import matplotlib.pyplot as plt\n",
        "import seaborn as sns\n",
        "import warnings\n",
        "import shap\n",
        "from sklearn import preprocessing\n",
        "warnings.filterwarnings(\"ignore\")\n",
        "from sklearn.preprocessing import StandardScaler, MinMaxScaler\n",
        "from sklearn.model_selection import train_test_split, cross_val_score, StratifiedKFold, GridSearchCV\n",
        "from sklearn.metrics import roc_auc_score, classification_report, confusion_matrix\n",
        "from sklearn.linear_model import LogisticRegression\n",
        "from sklearn.ensemble import RandomForestClassifier, IsolationForest\n",
        "from sklearn.pipeline import Pipeline\n",
        "from sklearn.tree import export_graphviz\n",
        "import pydot\n",
        "\n",
        "from imblearn.over_sampling import SMOTE, RandomOverSampler\n",
        "from imblearn.under_sampling import RandomUnderSampler\n",
        "import imblearn.pipeline\n",
        "\n",
        "from xgboost import XGBClassifier\n",
        "import xgboost as xgb\n",
        "from xgboost import plot_tree\n",
        "\n",
        "from hyperopt import hp\n",
        "from hyperopt import fmin, tpe\n",
        "\n",
        "%matplotlib inline\n",
        "plt.style.use('ggplot')"
      ],
      "execution_count": 64,
      "outputs": []
    },
    {
      "cell_type": "code",
      "metadata": {
        "colab": {
          "base_uri": "https://localhost:8080/",
          "height": 332
        },
        "id": "L8td6GEWsxec",
        "outputId": "0b3ea387-2914-44df-d2c8-55d8efe7ea99"
      },
      "source": [
        "train_dir='/content/drive/MyDrive/Colab Notebooks/Jobathon/data/train_data.csv'\n",
        "test_dir='/content/drive/MyDrive/Colab Notebooks/Jobathon/data/test_data.csv'\n",
        "dir='/content/drive/MyDrive/Colab Notebooks/Jobathon/data/'\n",
        "df=pd.read_csv(train_dir)\n",
        "print(df.columns)\n",
        "df.head(7)"
      ],
      "execution_count": 91,
      "outputs": [
        {
          "output_type": "stream",
          "text": [
            "Index(['ID', 'Gender', 'Age', 'Region_Code', 'Occupation', 'Channel_Code',\n",
            "       'Vintage', 'Credit_Product', 'Avg_Account_Balance', 'Is_Active',\n",
            "       'Is_Lead'],\n",
            "      dtype='object')\n"
          ],
          "name": "stdout"
        },
        {
          "output_type": "execute_result",
          "data": {
            "text/html": [
              "<div>\n",
              "<style scoped>\n",
              "    .dataframe tbody tr th:only-of-type {\n",
              "        vertical-align: middle;\n",
              "    }\n",
              "\n",
              "    .dataframe tbody tr th {\n",
              "        vertical-align: top;\n",
              "    }\n",
              "\n",
              "    .dataframe thead th {\n",
              "        text-align: right;\n",
              "    }\n",
              "</style>\n",
              "<table border=\"1\" class=\"dataframe\">\n",
              "  <thead>\n",
              "    <tr style=\"text-align: right;\">\n",
              "      <th></th>\n",
              "      <th>ID</th>\n",
              "      <th>Gender</th>\n",
              "      <th>Age</th>\n",
              "      <th>Region_Code</th>\n",
              "      <th>Occupation</th>\n",
              "      <th>Channel_Code</th>\n",
              "      <th>Vintage</th>\n",
              "      <th>Credit_Product</th>\n",
              "      <th>Avg_Account_Balance</th>\n",
              "      <th>Is_Active</th>\n",
              "      <th>Is_Lead</th>\n",
              "    </tr>\n",
              "  </thead>\n",
              "  <tbody>\n",
              "    <tr>\n",
              "      <th>0</th>\n",
              "      <td>NNVBBKZB</td>\n",
              "      <td>Female</td>\n",
              "      <td>73</td>\n",
              "      <td>RG268</td>\n",
              "      <td>Other</td>\n",
              "      <td>X3</td>\n",
              "      <td>43</td>\n",
              "      <td>No</td>\n",
              "      <td>1045696</td>\n",
              "      <td>No</td>\n",
              "      <td>0</td>\n",
              "    </tr>\n",
              "    <tr>\n",
              "      <th>1</th>\n",
              "      <td>IDD62UNG</td>\n",
              "      <td>Female</td>\n",
              "      <td>30</td>\n",
              "      <td>RG277</td>\n",
              "      <td>Salaried</td>\n",
              "      <td>X1</td>\n",
              "      <td>32</td>\n",
              "      <td>No</td>\n",
              "      <td>581988</td>\n",
              "      <td>No</td>\n",
              "      <td>0</td>\n",
              "    </tr>\n",
              "    <tr>\n",
              "      <th>2</th>\n",
              "      <td>HD3DSEMC</td>\n",
              "      <td>Female</td>\n",
              "      <td>56</td>\n",
              "      <td>RG268</td>\n",
              "      <td>Self_Employed</td>\n",
              "      <td>X3</td>\n",
              "      <td>26</td>\n",
              "      <td>No</td>\n",
              "      <td>1484315</td>\n",
              "      <td>Yes</td>\n",
              "      <td>0</td>\n",
              "    </tr>\n",
              "    <tr>\n",
              "      <th>3</th>\n",
              "      <td>BF3NC7KV</td>\n",
              "      <td>Male</td>\n",
              "      <td>34</td>\n",
              "      <td>RG270</td>\n",
              "      <td>Salaried</td>\n",
              "      <td>X1</td>\n",
              "      <td>19</td>\n",
              "      <td>No</td>\n",
              "      <td>470454</td>\n",
              "      <td>No</td>\n",
              "      <td>0</td>\n",
              "    </tr>\n",
              "    <tr>\n",
              "      <th>4</th>\n",
              "      <td>TEASRWXV</td>\n",
              "      <td>Female</td>\n",
              "      <td>30</td>\n",
              "      <td>RG282</td>\n",
              "      <td>Salaried</td>\n",
              "      <td>X1</td>\n",
              "      <td>33</td>\n",
              "      <td>No</td>\n",
              "      <td>886787</td>\n",
              "      <td>No</td>\n",
              "      <td>0</td>\n",
              "    </tr>\n",
              "    <tr>\n",
              "      <th>5</th>\n",
              "      <td>ACUTYTWS</td>\n",
              "      <td>Male</td>\n",
              "      <td>56</td>\n",
              "      <td>RG261</td>\n",
              "      <td>Self_Employed</td>\n",
              "      <td>X1</td>\n",
              "      <td>32</td>\n",
              "      <td>No</td>\n",
              "      <td>544163</td>\n",
              "      <td>Yes</td>\n",
              "      <td>0</td>\n",
              "    </tr>\n",
              "    <tr>\n",
              "      <th>6</th>\n",
              "      <td>ETQCZFEJ</td>\n",
              "      <td>Male</td>\n",
              "      <td>62</td>\n",
              "      <td>RG282</td>\n",
              "      <td>Other</td>\n",
              "      <td>X3</td>\n",
              "      <td>20</td>\n",
              "      <td>NaN</td>\n",
              "      <td>1056750</td>\n",
              "      <td>Yes</td>\n",
              "      <td>1</td>\n",
              "    </tr>\n",
              "  </tbody>\n",
              "</table>\n",
              "</div>"
            ],
            "text/plain": [
              "         ID  Gender  Age  ... Avg_Account_Balance Is_Active Is_Lead\n",
              "0  NNVBBKZB  Female   73  ...             1045696        No       0\n",
              "1  IDD62UNG  Female   30  ...              581988        No       0\n",
              "2  HD3DSEMC  Female   56  ...             1484315       Yes       0\n",
              "3  BF3NC7KV    Male   34  ...              470454        No       0\n",
              "4  TEASRWXV  Female   30  ...              886787        No       0\n",
              "5  ACUTYTWS    Male   56  ...              544163       Yes       0\n",
              "6  ETQCZFEJ    Male   62  ...             1056750       Yes       1\n",
              "\n",
              "[7 rows x 11 columns]"
            ]
          },
          "metadata": {
            "tags": []
          },
          "execution_count": 91
        }
      ]
    },
    {
      "cell_type": "code",
      "metadata": {
        "colab": {
          "base_uri": "https://localhost:8080/"
        },
        "id": "IA0wWIRzHKvN",
        "outputId": "3600c6ba-840b-4d39-8bbf-6a32d8682195"
      },
      "source": [
        "df.info(null_counts=True)"
      ],
      "execution_count": 5,
      "outputs": [
        {
          "output_type": "stream",
          "text": [
            "<class 'pandas.core.frame.DataFrame'>\n",
            "RangeIndex: 245725 entries, 0 to 245724\n",
            "Data columns (total 11 columns):\n",
            " #   Column               Non-Null Count   Dtype \n",
            "---  ------               --------------   ----- \n",
            " 0   ID                   245725 non-null  object\n",
            " 1   Gender               245725 non-null  object\n",
            " 2   Age                  245725 non-null  int64 \n",
            " 3   Region_Code          245725 non-null  object\n",
            " 4   Occupation           245725 non-null  object\n",
            " 5   Channel_Code         245725 non-null  object\n",
            " 6   Vintage              245725 non-null  int64 \n",
            " 7   Credit_Product       216400 non-null  object\n",
            " 8   Avg_Account_Balance  245725 non-null  int64 \n",
            " 9   Is_Active            245725 non-null  object\n",
            " 10  Is_Lead              245725 non-null  int64 \n",
            "dtypes: int64(4), object(7)\n",
            "memory usage: 20.6+ MB\n"
          ],
          "name": "stdout"
        }
      ]
    },
    {
      "cell_type": "code",
      "metadata": {
        "colab": {
          "base_uri": "https://localhost:8080/",
          "height": 295
        },
        "id": "N2THi3JtHkpy",
        "outputId": "e8bf9ea9-04c4-445f-f7b6-412bdc36b393"
      },
      "source": [
        "df.describe()"
      ],
      "execution_count": 6,
      "outputs": [
        {
          "output_type": "execute_result",
          "data": {
            "text/html": [
              "<div>\n",
              "<style scoped>\n",
              "    .dataframe tbody tr th:only-of-type {\n",
              "        vertical-align: middle;\n",
              "    }\n",
              "\n",
              "    .dataframe tbody tr th {\n",
              "        vertical-align: top;\n",
              "    }\n",
              "\n",
              "    .dataframe thead th {\n",
              "        text-align: right;\n",
              "    }\n",
              "</style>\n",
              "<table border=\"1\" class=\"dataframe\">\n",
              "  <thead>\n",
              "    <tr style=\"text-align: right;\">\n",
              "      <th></th>\n",
              "      <th>Age</th>\n",
              "      <th>Vintage</th>\n",
              "      <th>Avg_Account_Balance</th>\n",
              "      <th>Is_Lead</th>\n",
              "    </tr>\n",
              "  </thead>\n",
              "  <tbody>\n",
              "    <tr>\n",
              "      <th>count</th>\n",
              "      <td>245725.000000</td>\n",
              "      <td>245725.000000</td>\n",
              "      <td>2.457250e+05</td>\n",
              "      <td>245725.000000</td>\n",
              "    </tr>\n",
              "    <tr>\n",
              "      <th>mean</th>\n",
              "      <td>43.856307</td>\n",
              "      <td>46.959141</td>\n",
              "      <td>1.128403e+06</td>\n",
              "      <td>0.237208</td>\n",
              "    </tr>\n",
              "    <tr>\n",
              "      <th>std</th>\n",
              "      <td>14.828672</td>\n",
              "      <td>32.353136</td>\n",
              "      <td>8.529364e+05</td>\n",
              "      <td>0.425372</td>\n",
              "    </tr>\n",
              "    <tr>\n",
              "      <th>min</th>\n",
              "      <td>23.000000</td>\n",
              "      <td>7.000000</td>\n",
              "      <td>2.079000e+04</td>\n",
              "      <td>0.000000</td>\n",
              "    </tr>\n",
              "    <tr>\n",
              "      <th>25%</th>\n",
              "      <td>30.000000</td>\n",
              "      <td>20.000000</td>\n",
              "      <td>6.043100e+05</td>\n",
              "      <td>0.000000</td>\n",
              "    </tr>\n",
              "    <tr>\n",
              "      <th>50%</th>\n",
              "      <td>43.000000</td>\n",
              "      <td>32.000000</td>\n",
              "      <td>8.946010e+05</td>\n",
              "      <td>0.000000</td>\n",
              "    </tr>\n",
              "    <tr>\n",
              "      <th>75%</th>\n",
              "      <td>54.000000</td>\n",
              "      <td>73.000000</td>\n",
              "      <td>1.366666e+06</td>\n",
              "      <td>0.000000</td>\n",
              "    </tr>\n",
              "    <tr>\n",
              "      <th>max</th>\n",
              "      <td>85.000000</td>\n",
              "      <td>135.000000</td>\n",
              "      <td>1.035201e+07</td>\n",
              "      <td>1.000000</td>\n",
              "    </tr>\n",
              "  </tbody>\n",
              "</table>\n",
              "</div>"
            ],
            "text/plain": [
              "                 Age        Vintage  Avg_Account_Balance        Is_Lead\n",
              "count  245725.000000  245725.000000         2.457250e+05  245725.000000\n",
              "mean       43.856307      46.959141         1.128403e+06       0.237208\n",
              "std        14.828672      32.353136         8.529364e+05       0.425372\n",
              "min        23.000000       7.000000         2.079000e+04       0.000000\n",
              "25%        30.000000      20.000000         6.043100e+05       0.000000\n",
              "50%        43.000000      32.000000         8.946010e+05       0.000000\n",
              "75%        54.000000      73.000000         1.366666e+06       0.000000\n",
              "max        85.000000     135.000000         1.035201e+07       1.000000"
            ]
          },
          "metadata": {
            "tags": []
          },
          "execution_count": 6
        }
      ]
    },
    {
      "cell_type": "code",
      "metadata": {
        "id": "y9bG4QBe62W-"
      },
      "source": [
        "df=pd.read_csv(train_dir)\n",
        "train_id=df['ID']\n",
        "df.drop(columns=['ID'],inplace=True)\n",
        "df['Credit_Product']=df['Credit_Product'].astype(str)\n",
        "le = preprocessing.LabelEncoder()\n",
        "# df['Age']=MinMaxScaler().fit_transform(np.array(df['Age']).reshape(-1,1))\n",
        "df['Gender']=le.fit_transform(df['Gender'])\n",
        "df['Region_Code']=le.fit_transform(df['Region_Code'])\n",
        "df['Region_Code']=(df['Region_Code']/5).astype(int)\n",
        "df['Occupation']=le.fit_transform(df['Occupation'])\n",
        "df['Channel_Code']=le.fit_transform(df['Channel_Code'])\n",
        "# df['Vintage']=le.fit_transform(df['Vintage'])\n",
        "df['Credit_Product']=le.fit_transform(df['Credit_Product'])\n",
        "df['Is_Active']=le.fit_transform(df['Is_Active'])\n",
        "# df['Avg_Account_Balance']=MinMaxScaler().fit_transform(np.array(df['Avg_Account_Balance']).reshape(-1,1))\n",
        "df['Avg_Account_Balance']=np.log(df['Avg_Account_Balance'])\n"
      ],
      "execution_count": 124,
      "outputs": []
    },
    {
      "cell_type": "code",
      "metadata": {
        "id": "h3ANJpRGN9vY"
      },
      "source": [
        ""
      ],
      "execution_count": 67,
      "outputs": []
    },
    {
      "cell_type": "code",
      "metadata": {
        "colab": {
          "base_uri": "https://localhost:8080/"
        },
        "id": "MYau_6EdOFjA",
        "outputId": "3d5ce179-11d4-4a41-e17a-2a5cb80070e3"
      },
      "source": [
        "X=df.iloc[:,0:9]\n",
        "y=df.iloc[:,9]\n",
        "print(X.shape, y.shape)\n",
        "X.head(), y.head()"
      ],
      "execution_count": 125,
      "outputs": [
        {
          "output_type": "stream",
          "text": [
            "(245725, 9) (245725,)\n"
          ],
          "name": "stdout"
        },
        {
          "output_type": "execute_result",
          "data": {
            "text/plain": [
              "(   Gender  Age  Region_Code  ...  Credit_Product  Avg_Account_Balance  Is_Active\n",
              " 0       0   73            3  ...               0            13.860193          0\n",
              " 1       0   30            5  ...               0            13.274205          0\n",
              " 2       0   56            3  ...               0            14.210464          1\n",
              " 3       1   34            4  ...               0            13.061453          0\n",
              " 4       0   30            6  ...               0            13.695360          0\n",
              " \n",
              " [5 rows x 9 columns], 0    0\n",
              " 1    0\n",
              " 2    0\n",
              " 3    0\n",
              " 4    0\n",
              " Name: Is_Lead, dtype: int64)"
            ]
          },
          "metadata": {
            "tags": []
          },
          "execution_count": 125
        }
      ]
    },
    {
      "cell_type": "code",
      "metadata": {
        "colab": {
          "base_uri": "https://localhost:8080/",
          "height": 203
        },
        "id": "TaFIGaOekhOr",
        "outputId": "84449a49-9923-46e0-a84d-df99455474ca"
      },
      "source": [
        "X.head()"
      ],
      "execution_count": 126,
      "outputs": [
        {
          "output_type": "execute_result",
          "data": {
            "text/html": [
              "<div>\n",
              "<style scoped>\n",
              "    .dataframe tbody tr th:only-of-type {\n",
              "        vertical-align: middle;\n",
              "    }\n",
              "\n",
              "    .dataframe tbody tr th {\n",
              "        vertical-align: top;\n",
              "    }\n",
              "\n",
              "    .dataframe thead th {\n",
              "        text-align: right;\n",
              "    }\n",
              "</style>\n",
              "<table border=\"1\" class=\"dataframe\">\n",
              "  <thead>\n",
              "    <tr style=\"text-align: right;\">\n",
              "      <th></th>\n",
              "      <th>Gender</th>\n",
              "      <th>Age</th>\n",
              "      <th>Region_Code</th>\n",
              "      <th>Occupation</th>\n",
              "      <th>Channel_Code</th>\n",
              "      <th>Vintage</th>\n",
              "      <th>Credit_Product</th>\n",
              "      <th>Avg_Account_Balance</th>\n",
              "      <th>Is_Active</th>\n",
              "    </tr>\n",
              "  </thead>\n",
              "  <tbody>\n",
              "    <tr>\n",
              "      <th>0</th>\n",
              "      <td>0</td>\n",
              "      <td>73</td>\n",
              "      <td>3</td>\n",
              "      <td>1</td>\n",
              "      <td>2</td>\n",
              "      <td>43</td>\n",
              "      <td>0</td>\n",
              "      <td>13.860193</td>\n",
              "      <td>0</td>\n",
              "    </tr>\n",
              "    <tr>\n",
              "      <th>1</th>\n",
              "      <td>0</td>\n",
              "      <td>30</td>\n",
              "      <td>5</td>\n",
              "      <td>2</td>\n",
              "      <td>0</td>\n",
              "      <td>32</td>\n",
              "      <td>0</td>\n",
              "      <td>13.274205</td>\n",
              "      <td>0</td>\n",
              "    </tr>\n",
              "    <tr>\n",
              "      <th>2</th>\n",
              "      <td>0</td>\n",
              "      <td>56</td>\n",
              "      <td>3</td>\n",
              "      <td>3</td>\n",
              "      <td>2</td>\n",
              "      <td>26</td>\n",
              "      <td>0</td>\n",
              "      <td>14.210464</td>\n",
              "      <td>1</td>\n",
              "    </tr>\n",
              "    <tr>\n",
              "      <th>3</th>\n",
              "      <td>1</td>\n",
              "      <td>34</td>\n",
              "      <td>4</td>\n",
              "      <td>2</td>\n",
              "      <td>0</td>\n",
              "      <td>19</td>\n",
              "      <td>0</td>\n",
              "      <td>13.061453</td>\n",
              "      <td>0</td>\n",
              "    </tr>\n",
              "    <tr>\n",
              "      <th>4</th>\n",
              "      <td>0</td>\n",
              "      <td>30</td>\n",
              "      <td>6</td>\n",
              "      <td>2</td>\n",
              "      <td>0</td>\n",
              "      <td>33</td>\n",
              "      <td>0</td>\n",
              "      <td>13.695360</td>\n",
              "      <td>0</td>\n",
              "    </tr>\n",
              "  </tbody>\n",
              "</table>\n",
              "</div>"
            ],
            "text/plain": [
              "   Gender  Age  Region_Code  ...  Credit_Product  Avg_Account_Balance  Is_Active\n",
              "0       0   73            3  ...               0            13.860193          0\n",
              "1       0   30            5  ...               0            13.274205          0\n",
              "2       0   56            3  ...               0            14.210464          1\n",
              "3       1   34            4  ...               0            13.061453          0\n",
              "4       0   30            6  ...               0            13.695360          0\n",
              "\n",
              "[5 rows x 9 columns]"
            ]
          },
          "metadata": {
            "tags": []
          },
          "execution_count": 126
        }
      ]
    },
    {
      "cell_type": "code",
      "metadata": {
        "id": "Zj7XJy87jtiO"
      },
      "source": [
        "cat_cols=['Occupation','Channel_Code','Region_Code']"
      ],
      "execution_count": 127,
      "outputs": []
    },
    {
      "cell_type": "code",
      "metadata": {
        "colab": {
          "base_uri": "https://localhost:8080/"
        },
        "id": "yAydFxcgm0Pm",
        "outputId": "68525cb3-64f2-46a1-db0d-166e40478196"
      },
      "source": [
        "X=pd.get_dummies(X, columns=cat_cols)\n",
        "print(X.shape)\n",
        "X.head"
      ],
      "execution_count": 128,
      "outputs": [
        {
          "output_type": "stream",
          "text": [
            "(245725, 21)\n"
          ],
          "name": "stdout"
        },
        {
          "output_type": "execute_result",
          "data": {
            "text/plain": [
              "<bound method NDFrame.head of         Gender  Age  Vintage  ...  Region_Code_4  Region_Code_5  Region_Code_6\n",
              "0            0   73       43  ...              0              0              0\n",
              "1            0   30       32  ...              0              1              0\n",
              "2            0   56       26  ...              0              0              0\n",
              "3            1   34       19  ...              1              0              0\n",
              "4            0   30       33  ...              0              0              1\n",
              "...        ...  ...      ...  ...            ...            ...            ...\n",
              "245720       1   51      109  ...              0              0              1\n",
              "245721       1   27       15  ...              0              0              0\n",
              "245722       0   26       13  ...              0              0              1\n",
              "245723       0   28       31  ...              1              0              0\n",
              "245724       1   29       21  ...              0              0              0\n",
              "\n",
              "[245725 rows x 21 columns]>"
            ]
          },
          "metadata": {
            "tags": []
          },
          "execution_count": 128
        }
      ]
    },
    {
      "cell_type": "code",
      "metadata": {
        "colab": {
          "base_uri": "https://localhost:8080/",
          "height": 203
        },
        "id": "kZ01tj0wnYlC",
        "outputId": "f8ece4a8-3d12-4ac3-abb3-1aac627846c1"
      },
      "source": [
        "X.iloc[:5,10:23]"
      ],
      "execution_count": 129,
      "outputs": [
        {
          "output_type": "execute_result",
          "data": {
            "text/html": [
              "<div>\n",
              "<style scoped>\n",
              "    .dataframe tbody tr th:only-of-type {\n",
              "        vertical-align: middle;\n",
              "    }\n",
              "\n",
              "    .dataframe tbody tr th {\n",
              "        vertical-align: top;\n",
              "    }\n",
              "\n",
              "    .dataframe thead th {\n",
              "        text-align: right;\n",
              "    }\n",
              "</style>\n",
              "<table border=\"1\" class=\"dataframe\">\n",
              "  <thead>\n",
              "    <tr style=\"text-align: right;\">\n",
              "      <th></th>\n",
              "      <th>Channel_Code_0</th>\n",
              "      <th>Channel_Code_1</th>\n",
              "      <th>Channel_Code_2</th>\n",
              "      <th>Channel_Code_3</th>\n",
              "      <th>Region_Code_0</th>\n",
              "      <th>Region_Code_1</th>\n",
              "      <th>Region_Code_2</th>\n",
              "      <th>Region_Code_3</th>\n",
              "      <th>Region_Code_4</th>\n",
              "      <th>Region_Code_5</th>\n",
              "      <th>Region_Code_6</th>\n",
              "    </tr>\n",
              "  </thead>\n",
              "  <tbody>\n",
              "    <tr>\n",
              "      <th>0</th>\n",
              "      <td>0</td>\n",
              "      <td>0</td>\n",
              "      <td>1</td>\n",
              "      <td>0</td>\n",
              "      <td>0</td>\n",
              "      <td>0</td>\n",
              "      <td>0</td>\n",
              "      <td>1</td>\n",
              "      <td>0</td>\n",
              "      <td>0</td>\n",
              "      <td>0</td>\n",
              "    </tr>\n",
              "    <tr>\n",
              "      <th>1</th>\n",
              "      <td>1</td>\n",
              "      <td>0</td>\n",
              "      <td>0</td>\n",
              "      <td>0</td>\n",
              "      <td>0</td>\n",
              "      <td>0</td>\n",
              "      <td>0</td>\n",
              "      <td>0</td>\n",
              "      <td>0</td>\n",
              "      <td>1</td>\n",
              "      <td>0</td>\n",
              "    </tr>\n",
              "    <tr>\n",
              "      <th>2</th>\n",
              "      <td>0</td>\n",
              "      <td>0</td>\n",
              "      <td>1</td>\n",
              "      <td>0</td>\n",
              "      <td>0</td>\n",
              "      <td>0</td>\n",
              "      <td>0</td>\n",
              "      <td>1</td>\n",
              "      <td>0</td>\n",
              "      <td>0</td>\n",
              "      <td>0</td>\n",
              "    </tr>\n",
              "    <tr>\n",
              "      <th>3</th>\n",
              "      <td>1</td>\n",
              "      <td>0</td>\n",
              "      <td>0</td>\n",
              "      <td>0</td>\n",
              "      <td>0</td>\n",
              "      <td>0</td>\n",
              "      <td>0</td>\n",
              "      <td>0</td>\n",
              "      <td>1</td>\n",
              "      <td>0</td>\n",
              "      <td>0</td>\n",
              "    </tr>\n",
              "    <tr>\n",
              "      <th>4</th>\n",
              "      <td>1</td>\n",
              "      <td>0</td>\n",
              "      <td>0</td>\n",
              "      <td>0</td>\n",
              "      <td>0</td>\n",
              "      <td>0</td>\n",
              "      <td>0</td>\n",
              "      <td>0</td>\n",
              "      <td>0</td>\n",
              "      <td>0</td>\n",
              "      <td>1</td>\n",
              "    </tr>\n",
              "  </tbody>\n",
              "</table>\n",
              "</div>"
            ],
            "text/plain": [
              "   Channel_Code_0  Channel_Code_1  ...  Region_Code_5  Region_Code_6\n",
              "0               0               0  ...              0              0\n",
              "1               1               0  ...              1              0\n",
              "2               0               0  ...              0              0\n",
              "3               1               0  ...              0              0\n",
              "4               1               0  ...              0              1\n",
              "\n",
              "[5 rows x 11 columns]"
            ]
          },
          "metadata": {
            "tags": []
          },
          "execution_count": 129
        }
      ]
    },
    {
      "cell_type": "code",
      "metadata": {
        "colab": {
          "base_uri": "https://localhost:8080/"
        },
        "id": "Plgk62ihHkYp",
        "outputId": "5a82b0a6-424e-456c-f1a1-b92b624c55f6"
      },
      "source": [
        "# Define all features\n",
        "orig_feats = [col for col in df.columns if 'class' not in col]\n",
        "\n",
        "len(orig_feats)"
      ],
      "execution_count": 130,
      "outputs": [
        {
          "output_type": "execute_result",
          "data": {
            "text/plain": [
              "10"
            ]
          },
          "metadata": {
            "tags": []
          },
          "execution_count": 130
        }
      ]
    },
    {
      "cell_type": "code",
      "metadata": {
        "colab": {
          "base_uri": "https://localhost:8080/"
        },
        "id": "6dFKwac3R094",
        "outputId": "0fe4518e-8c10-459b-cd1f-55a12c490fe2"
      },
      "source": [
        "X.columns"
      ],
      "execution_count": 76,
      "outputs": [
        {
          "output_type": "execute_result",
          "data": {
            "text/plain": [
              "Index(['Gender', 'Age', 'Region_Code', 'Occupation', 'Channel_Code', 'Vintage',\n",
              "       'Credit_Product', 'Avg_Account_Balance', 'Is_Active'],\n",
              "      dtype='object')"
            ]
          },
          "metadata": {
            "tags": []
          },
          "execution_count": 76
        }
      ]
    },
    {
      "cell_type": "code",
      "metadata": {
        "colab": {
          "base_uri": "https://localhost:8080/",
          "height": 554
        },
        "id": "W2vQ3fehP35B",
        "outputId": "5ddf181c-e37a-4354-fc2f-495d4d65db4f"
      },
      "source": [
        "g=sns.pairplot(X,vars=[ 'Region_Code', 'Occupation',\n",
        "       'Credit_Product', 'Avg_Account_Balance', 'Is_Active'],height=1.5)"
      ],
      "execution_count": 79,
      "outputs": [
        {
          "output_type": "display_data",
          "data": {
            "image/png": "[encoded data removed]",
            "text/plain": [
              "<Figure size 540x540 with 30 Axes>"
            ]
          },
          "metadata": {
            "tags": []
          }
        }
      ]
    },
    {
      "cell_type": "code",
      "metadata": {
        "colab": {
          "base_uri": "https://localhost:8080/",
          "height": 332
        },
        "id": "_LrixLOMP8HV",
        "outputId": "828bf438-b156-4bad-98f5-fa7c2d653321"
      },
      "source": [
        "target=\"Is_Lead\"\n",
        "print(y.value_counts(normalize=True))\n",
        "y.hist()"
      ],
      "execution_count": 84,
      "outputs": [
        {
          "output_type": "stream",
          "text": [
            "0    0.762792\n",
            "1    0.237208\n",
            "Name: Is_Lead, dtype: float64\n"
          ],
          "name": "stdout"
        },
        {
          "output_type": "execute_result",
          "data": {
            "text/plain": [
              "<matplotlib.axes._subplots.AxesSubplot at 0x7f1024143a10>"
            ]
          },
          "metadata": {
            "tags": []
          },
          "execution_count": 84
        },
        {
          "output_type": "display_data",
          "data": {
            "image/png": "[encoded data removed]",
            "text/plain": [
              "<Figure size 432x288 with 1 Axes>"
            ]
          },
          "metadata": {
            "tags": []
          }
        }
      ]
    },
    {
      "cell_type": "code",
      "metadata": {
        "colab": {
          "base_uri": "https://localhost:8080/",
          "height": 243
        },
        "id": "TtZuI-yWTW5T",
        "outputId": "2caaabfd-f72e-463a-8fb2-2efef25adbf5"
      },
      "source": [
        "df_corr = df.corr()\n",
        "df_corr.style.background_gradient().set_precision(2)"
      ],
      "execution_count": 86,
      "outputs": [
        {
          "output_type": "execute_result",
          "data": {
            "text/html": [
              "<style  type=\"text/css\" >\n",
              "#T_067bf926_c11e_11eb_ba03_0242ac1c0002row0_col0,#T_067bf926_c11e_11eb_ba03_0242ac1c0002row1_col1,#T_067bf926_c11e_11eb_ba03_0242ac1c0002row2_col2,#T_067bf926_c11e_11eb_ba03_0242ac1c0002row3_col3,#T_067bf926_c11e_11eb_ba03_0242ac1c0002row4_col4,#T_067bf926_c11e_11eb_ba03_0242ac1c0002row5_col5,#T_067bf926_c11e_11eb_ba03_0242ac1c0002row6_col6,#T_067bf926_c11e_11eb_ba03_0242ac1c0002row7_col7,#T_067bf926_c11e_11eb_ba03_0242ac1c0002row8_col8,#T_067bf926_c11e_11eb_ba03_0242ac1c0002row9_col9{\n",
              "            background-color:  #023858;\n",
              "            color:  #f1f1f1;\n",
              "        }#T_067bf926_c11e_11eb_ba03_0242ac1c0002row0_col1,#T_067bf926_c11e_11eb_ba03_0242ac1c0002row6_col5{\n",
              "            background-color:  #d1d2e6;\n",
              "            color:  #000000;\n",
              "        }#T_067bf926_c11e_11eb_ba03_0242ac1c0002row0_col2,#T_067bf926_c11e_11eb_ba03_0242ac1c0002row1_col3,#T_067bf926_c11e_11eb_ba03_0242ac1c0002row2_col0,#T_067bf926_c11e_11eb_ba03_0242ac1c0002row2_col4,#T_067bf926_c11e_11eb_ba03_0242ac1c0002row3_col1,#T_067bf926_c11e_11eb_ba03_0242ac1c0002row3_col5,#T_067bf926_c11e_11eb_ba03_0242ac1c0002row3_col7,#T_067bf926_c11e_11eb_ba03_0242ac1c0002row3_col9,#T_067bf926_c11e_11eb_ba03_0242ac1c0002row6_col8,#T_067bf926_c11e_11eb_ba03_0242ac1c0002row7_col4,#T_067bf926_c11e_11eb_ba03_0242ac1c0002row8_col6{\n",
              "            background-color:  #fff7fb;\n",
              "            color:  #000000;\n",
              "        }#T_067bf926_c11e_11eb_ba03_0242ac1c0002row0_col3,#T_067bf926_c11e_11eb_ba03_0242ac1c0002row5_col0,#T_067bf926_c11e_11eb_ba03_0242ac1c0002row7_col5{\n",
              "            background-color:  #e8e4f0;\n",
              "            color:  #000000;\n",
              "        }#T_067bf926_c11e_11eb_ba03_0242ac1c0002row0_col4,#T_067bf926_c11e_11eb_ba03_0242ac1c0002row8_col2,#T_067bf926_c11e_11eb_ba03_0242ac1c0002row9_col2{\n",
              "            background-color:  #f7f0f7;\n",
              "            color:  #000000;\n",
              "        }#T_067bf926_c11e_11eb_ba03_0242ac1c0002row0_col5,#T_067bf926_c11e_11eb_ba03_0242ac1c0002row2_col3,#T_067bf926_c11e_11eb_ba03_0242ac1c0002row9_col3{\n",
              "            background-color:  #ede7f2;\n",
              "            color:  #000000;\n",
              "        }#T_067bf926_c11e_11eb_ba03_0242ac1c0002row0_col6{\n",
              "            background-color:  #f1ebf5;\n",
              "            color:  #000000;\n",
              "        }#T_067bf926_c11e_11eb_ba03_0242ac1c0002row0_col7,#T_067bf926_c11e_11eb_ba03_0242ac1c0002row0_col9,#T_067bf926_c11e_11eb_ba03_0242ac1c0002row8_col0{\n",
              "            background-color:  #f6eff7;\n",
              "            color:  #000000;\n",
              "        }#T_067bf926_c11e_11eb_ba03_0242ac1c0002row0_col8,#T_067bf926_c11e_11eb_ba03_0242ac1c0002row6_col0,#T_067bf926_c11e_11eb_ba03_0242ac1c0002row6_col2,#T_067bf926_c11e_11eb_ba03_0242ac1c0002row8_col9{\n",
              "            background-color:  #f4edf6;\n",
              "            color:  #000000;\n",
              "        }#T_067bf926_c11e_11eb_ba03_0242ac1c0002row1_col0,#T_067bf926_c11e_11eb_ba03_0242ac1c0002row4_col0{\n",
              "            background-color:  #e7e3f0;\n",
              "            color:  #000000;\n",
              "        }#T_067bf926_c11e_11eb_ba03_0242ac1c0002row1_col2,#T_067bf926_c11e_11eb_ba03_0242ac1c0002row5_col2{\n",
              "            background-color:  #eee8f3;\n",
              "            color:  #000000;\n",
              "        }#T_067bf926_c11e_11eb_ba03_0242ac1c0002row1_col4{\n",
              "            background-color:  #569dc8;\n",
              "            color:  #000000;\n",
              "        }#T_067bf926_c11e_11eb_ba03_0242ac1c0002row1_col5{\n",
              "            background-color:  #3991c1;\n",
              "            color:  #000000;\n",
              "        }#T_067bf926_c11e_11eb_ba03_0242ac1c0002row1_col6,#T_067bf926_c11e_11eb_ba03_0242ac1c0002row5_col9{\n",
              "            background-color:  #c9cee4;\n",
              "            color:  #000000;\n",
              "        }#T_067bf926_c11e_11eb_ba03_0242ac1c0002row1_col7,#T_067bf926_c11e_11eb_ba03_0242ac1c0002row9_col4{\n",
              "            background-color:  #e0deed;\n",
              "            color:  #000000;\n",
              "        }#T_067bf926_c11e_11eb_ba03_0242ac1c0002row1_col8{\n",
              "            background-color:  #d5d5e8;\n",
              "            color:  #000000;\n",
              "        }#T_067bf926_c11e_11eb_ba03_0242ac1c0002row1_col9{\n",
              "            background-color:  #d7d6e9;\n",
              "            color:  #000000;\n",
              "        }#T_067bf926_c11e_11eb_ba03_0242ac1c0002row2_col1,#T_067bf926_c11e_11eb_ba03_0242ac1c0002row5_col8{\n",
              "            background-color:  #d8d7e9;\n",
              "            color:  #000000;\n",
              "        }#T_067bf926_c11e_11eb_ba03_0242ac1c0002row2_col5,#T_067bf926_c11e_11eb_ba03_0242ac1c0002row9_col8{\n",
              "            background-color:  #f1ebf4;\n",
              "            color:  #000000;\n",
              "        }#T_067bf926_c11e_11eb_ba03_0242ac1c0002row2_col6,#T_067bf926_c11e_11eb_ba03_0242ac1c0002row3_col8,#T_067bf926_c11e_11eb_ba03_0242ac1c0002row7_col8,#T_067bf926_c11e_11eb_ba03_0242ac1c0002row9_col7{\n",
              "            background-color:  #f2ecf5;\n",
              "            color:  #000000;\n",
              "        }#T_067bf926_c11e_11eb_ba03_0242ac1c0002row2_col7,#T_067bf926_c11e_11eb_ba03_0242ac1c0002row8_col7{\n",
              "            background-color:  #eee9f3;\n",
              "            color:  #000000;\n",
              "        }#T_067bf926_c11e_11eb_ba03_0242ac1c0002row2_col8,#T_067bf926_c11e_11eb_ba03_0242ac1c0002row7_col2{\n",
              "            background-color:  #f4eef6;\n",
              "            color:  #000000;\n",
              "        }#T_067bf926_c11e_11eb_ba03_0242ac1c0002row2_col9{\n",
              "            background-color:  #f8f1f8;\n",
              "            color:  #000000;\n",
              "        }#T_067bf926_c11e_11eb_ba03_0242ac1c0002row3_col0,#T_067bf926_c11e_11eb_ba03_0242ac1c0002row3_col4,#T_067bf926_c11e_11eb_ba03_0242ac1c0002row3_col6{\n",
              "            background-color:  #fbf4f9;\n",
              "            color:  #000000;\n",
              "        }#T_067bf926_c11e_11eb_ba03_0242ac1c0002row3_col2{\n",
              "            background-color:  #fef6fb;\n",
              "            color:  #000000;\n",
              "        }#T_067bf926_c11e_11eb_ba03_0242ac1c0002row4_col1{\n",
              "            background-color:  #2c89bd;\n",
              "            color:  #000000;\n",
              "        }#T_067bf926_c11e_11eb_ba03_0242ac1c0002row4_col2,#T_067bf926_c11e_11eb_ba03_0242ac1c0002row6_col7{\n",
              "            background-color:  #f0eaf4;\n",
              "            color:  #000000;\n",
              "        }#T_067bf926_c11e_11eb_ba03_0242ac1c0002row4_col3{\n",
              "            background-color:  #d6d6e9;\n",
              "            color:  #000000;\n",
              "        }#T_067bf926_c11e_11eb_ba03_0242ac1c0002row4_col5{\n",
              "            background-color:  #67a4cc;\n",
              "            color:  #000000;\n",
              "        }#T_067bf926_c11e_11eb_ba03_0242ac1c0002row4_col6{\n",
              "            background-color:  #b8c6e0;\n",
              "            color:  #000000;\n",
              "        }#T_067bf926_c11e_11eb_ba03_0242ac1c0002row4_col7{\n",
              "            background-color:  #eae6f1;\n",
              "            color:  #000000;\n",
              "        }#T_067bf926_c11e_11eb_ba03_0242ac1c0002row4_col8,#T_067bf926_c11e_11eb_ba03_0242ac1c0002row9_col5{\n",
              "            background-color:  #cdd0e5;\n",
              "            color:  #000000;\n",
              "        }#T_067bf926_c11e_11eb_ba03_0242ac1c0002row4_col9{\n",
              "            background-color:  #d0d1e6;\n",
              "            color:  #000000;\n",
              "        }#T_067bf926_c11e_11eb_ba03_0242ac1c0002row5_col1{\n",
              "            background-color:  #2383ba;\n",
              "            color:  #000000;\n",
              "        }#T_067bf926_c11e_11eb_ba03_0242ac1c0002row5_col3{\n",
              "            background-color:  #e9e5f1;\n",
              "            color:  #000000;\n",
              "        }#T_067bf926_c11e_11eb_ba03_0242ac1c0002row5_col4{\n",
              "            background-color:  #79abd0;\n",
              "            color:  #000000;\n",
              "        }#T_067bf926_c11e_11eb_ba03_0242ac1c0002row5_col6{\n",
              "            background-color:  #c6cce3;\n",
              "            color:  #000000;\n",
              "        }#T_067bf926_c11e_11eb_ba03_0242ac1c0002row5_col7{\n",
              "            background-color:  #dcdaeb;\n",
              "            color:  #000000;\n",
              "        }#T_067bf926_c11e_11eb_ba03_0242ac1c0002row6_col1{\n",
              "            background-color:  #b0c2de;\n",
              "            color:  #000000;\n",
              "        }#T_067bf926_c11e_11eb_ba03_0242ac1c0002row6_col3{\n",
              "            background-color:  #ece7f2;\n",
              "            color:  #000000;\n",
              "        }#T_067bf926_c11e_11eb_ba03_0242ac1c0002row6_col4{\n",
              "            background-color:  #d3d4e7;\n",
              "            color:  #000000;\n",
              "        }#T_067bf926_c11e_11eb_ba03_0242ac1c0002row6_col9{\n",
              "            background-color:  #549cc7;\n",
              "            color:  #000000;\n",
              "        }#T_067bf926_c11e_11eb_ba03_0242ac1c0002row7_col0{\n",
              "            background-color:  #fdf5fa;\n",
              "            color:  #000000;\n",
              "        }#T_067bf926_c11e_11eb_ba03_0242ac1c0002row7_col1{\n",
              "            background-color:  #d2d3e7;\n",
              "            color:  #000000;\n",
              "        }#T_067bf926_c11e_11eb_ba03_0242ac1c0002row7_col3,#T_067bf926_c11e_11eb_ba03_0242ac1c0002row7_col6{\n",
              "            background-color:  #f3edf5;\n",
              "            color:  #000000;\n",
              "        }#T_067bf926_c11e_11eb_ba03_0242ac1c0002row7_col9{\n",
              "            background-color:  #f9f2f8;\n",
              "            color:  #000000;\n",
              "        }#T_067bf926_c11e_11eb_ba03_0242ac1c0002row8_col1{\n",
              "            background-color:  #bdc8e1;\n",
              "            color:  #000000;\n",
              "        }#T_067bf926_c11e_11eb_ba03_0242ac1c0002row8_col3{\n",
              "            background-color:  #e0dded;\n",
              "            color:  #000000;\n",
              "        }#T_067bf926_c11e_11eb_ba03_0242ac1c0002row8_col4{\n",
              "            background-color:  #e3e0ee;\n",
              "            color:  #000000;\n",
              "        }#T_067bf926_c11e_11eb_ba03_0242ac1c0002row8_col5{\n",
              "            background-color:  #dfddec;\n",
              "            color:  #000000;\n",
              "        }#T_067bf926_c11e_11eb_ba03_0242ac1c0002row9_col0{\n",
              "            background-color:  #f5eef6;\n",
              "            color:  #000000;\n",
              "        }#T_067bf926_c11e_11eb_ba03_0242ac1c0002row9_col1{\n",
              "            background-color:  #b9c6e0;\n",
              "            color:  #000000;\n",
              "        }#T_067bf926_c11e_11eb_ba03_0242ac1c0002row9_col6{\n",
              "            background-color:  #4e9ac6;\n",
              "            color:  #000000;\n",
              "        }</style><table id=\"T_067bf926_c11e_11eb_ba03_0242ac1c0002\" ><thead>    <tr>        <th class=\"blank level0\" ></th>        <th class=\"col_heading level0 col0\" >Gender</th>        <th class=\"col_heading level0 col1\" >Age</th>        <th class=\"col_heading level0 col2\" >Region_Code</th>        <th class=\"col_heading level0 col3\" >Occupation</th>        <th class=\"col_heading level0 col4\" >Channel_Code</th>        <th class=\"col_heading level0 col5\" >Vintage</th>        <th class=\"col_heading level0 col6\" >Credit_Product</th>        <th class=\"col_heading level0 col7\" >Avg_Account_Balance</th>        <th class=\"col_heading level0 col8\" >Is_Active</th>        <th class=\"col_heading level0 col9\" >Is_Lead</th>    </tr></thead><tbody>\n",
              "                <tr>\n",
              "                        <th id=\"T_067bf926_c11e_11eb_ba03_0242ac1c0002level0_row0\" class=\"row_heading level0 row0\" >Gender</th>\n",
              "                        <td id=\"T_067bf926_c11e_11eb_ba03_0242ac1c0002row0_col0\" class=\"data row0 col0\" >1.00</td>\n",
              "                        <td id=\"T_067bf926_c11e_11eb_ba03_0242ac1c0002row0_col1\" class=\"data row0 col1\" >0.15</td>\n",
              "                        <td id=\"T_067bf926_c11e_11eb_ba03_0242ac1c0002row0_col2\" class=\"data row0 col2\" >0.00</td>\n",
              "                        <td id=\"T_067bf926_c11e_11eb_ba03_0242ac1c0002row0_col3\" class=\"data row0 col3\" >0.03</td>\n",
              "                        <td id=\"T_067bf926_c11e_11eb_ba03_0242ac1c0002row0_col4\" class=\"data row0 col4\" >0.15</td>\n",
              "                        <td id=\"T_067bf926_c11e_11eb_ba03_0242ac1c0002row0_col5\" class=\"data row0 col5\" >0.15</td>\n",
              "                        <td id=\"T_067bf926_c11e_11eb_ba03_0242ac1c0002row0_col6\" class=\"data row0 col6\" >0.08</td>\n",
              "                        <td id=\"T_067bf926_c11e_11eb_ba03_0242ac1c0002row0_col7\" class=\"data row0 col7\" >0.02</td>\n",
              "                        <td id=\"T_067bf926_c11e_11eb_ba03_0242ac1c0002row0_col8\" class=\"data row0 col8\" >0.06</td>\n",
              "                        <td id=\"T_067bf926_c11e_11eb_ba03_0242ac1c0002row0_col9\" class=\"data row0 col9\" >0.07</td>\n",
              "            </tr>\n",
              "            <tr>\n",
              "                        <th id=\"T_067bf926_c11e_11eb_ba03_0242ac1c0002level0_row1\" class=\"row_heading level0 row1\" >Age</th>\n",
              "                        <td id=\"T_067bf926_c11e_11eb_ba03_0242ac1c0002row1_col0\" class=\"data row1 col0\" >0.15</td>\n",
              "                        <td id=\"T_067bf926_c11e_11eb_ba03_0242ac1c0002row1_col1\" class=\"data row1 col1\" >1.00</td>\n",
              "                        <td id=\"T_067bf926_c11e_11eb_ba03_0242ac1c0002row1_col2\" class=\"data row1 col2\" >0.12</td>\n",
              "                        <td id=\"T_067bf926_c11e_11eb_ba03_0242ac1c0002row1_col3\" class=\"data row1 col3\" >-0.13</td>\n",
              "                        <td id=\"T_067bf926_c11e_11eb_ba03_0242ac1c0002row1_col4\" class=\"data row1 col4\" >0.61</td>\n",
              "                        <td id=\"T_067bf926_c11e_11eb_ba03_0242ac1c0002row1_col5\" class=\"data row1 col5\" >0.63</td>\n",
              "                        <td id=\"T_067bf926_c11e_11eb_ba03_0242ac1c0002row1_col6\" class=\"data row1 col6\" >0.26</td>\n",
              "                        <td id=\"T_067bf926_c11e_11eb_ba03_0242ac1c0002row1_col7\" class=\"data row1 col7\" >0.15</td>\n",
              "                        <td id=\"T_067bf926_c11e_11eb_ba03_0242ac1c0002row1_col8\" class=\"data row1 col8\" >0.22</td>\n",
              "                        <td id=\"T_067bf926_c11e_11eb_ba03_0242ac1c0002row1_col9\" class=\"data row1 col9\" >0.23</td>\n",
              "            </tr>\n",
              "            <tr>\n",
              "                        <th id=\"T_067bf926_c11e_11eb_ba03_0242ac1c0002level0_row2\" class=\"row_heading level0 row2\" >Region_Code</th>\n",
              "                        <td id=\"T_067bf926_c11e_11eb_ba03_0242ac1c0002row2_col0\" class=\"data row2 col0\" >0.00</td>\n",
              "                        <td id=\"T_067bf926_c11e_11eb_ba03_0242ac1c0002row2_col1\" class=\"data row2 col1\" >0.12</td>\n",
              "                        <td id=\"T_067bf926_c11e_11eb_ba03_0242ac1c0002row2_col2\" class=\"data row2 col2\" >1.00</td>\n",
              "                        <td id=\"T_067bf926_c11e_11eb_ba03_0242ac1c0002row2_col3\" class=\"data row2 col3\" >0.01</td>\n",
              "                        <td id=\"T_067bf926_c11e_11eb_ba03_0242ac1c0002row2_col4\" class=\"data row2 col4\" >0.10</td>\n",
              "                        <td id=\"T_067bf926_c11e_11eb_ba03_0242ac1c0002row2_col5\" class=\"data row2 col5\" >0.12</td>\n",
              "                        <td id=\"T_067bf926_c11e_11eb_ba03_0242ac1c0002row2_col6\" class=\"data row2 col6\" >0.08</td>\n",
              "                        <td id=\"T_067bf926_c11e_11eb_ba03_0242ac1c0002row2_col7\" class=\"data row2 col7\" >0.08</td>\n",
              "                        <td id=\"T_067bf926_c11e_11eb_ba03_0242ac1c0002row2_col8\" class=\"data row2 col8\" >0.06</td>\n",
              "                        <td id=\"T_067bf926_c11e_11eb_ba03_0242ac1c0002row2_col9\" class=\"data row2 col9\" >0.06</td>\n",
              "            </tr>\n",
              "            <tr>\n",
              "                        <th id=\"T_067bf926_c11e_11eb_ba03_0242ac1c0002level0_row3\" class=\"row_heading level0 row3\" >Occupation</th>\n",
              "                        <td id=\"T_067bf926_c11e_11eb_ba03_0242ac1c0002row3_col0\" class=\"data row3 col0\" >0.03</td>\n",
              "                        <td id=\"T_067bf926_c11e_11eb_ba03_0242ac1c0002row3_col1\" class=\"data row3 col1\" >-0.13</td>\n",
              "                        <td id=\"T_067bf926_c11e_11eb_ba03_0242ac1c0002row3_col2\" class=\"data row3 col2\" >0.01</td>\n",
              "                        <td id=\"T_067bf926_c11e_11eb_ba03_0242ac1c0002row3_col3\" class=\"data row3 col3\" >1.00</td>\n",
              "                        <td id=\"T_067bf926_c11e_11eb_ba03_0242ac1c0002row3_col4\" class=\"data row3 col4\" >0.12</td>\n",
              "                        <td id=\"T_067bf926_c11e_11eb_ba03_0242ac1c0002row3_col5\" class=\"data row3 col5\" >0.03</td>\n",
              "                        <td id=\"T_067bf926_c11e_11eb_ba03_0242ac1c0002row3_col6\" class=\"data row3 col6\" >0.02</td>\n",
              "                        <td id=\"T_067bf926_c11e_11eb_ba03_0242ac1c0002row3_col7\" class=\"data row3 col7\" >-0.04</td>\n",
              "                        <td id=\"T_067bf926_c11e_11eb_ba03_0242ac1c0002row3_col8\" class=\"data row3 col8\" >0.08</td>\n",
              "                        <td id=\"T_067bf926_c11e_11eb_ba03_0242ac1c0002row3_col9\" class=\"data row3 col9\" >0.01</td>\n",
              "            </tr>\n",
              "            <tr>\n",
              "                        <th id=\"T_067bf926_c11e_11eb_ba03_0242ac1c0002level0_row4\" class=\"row_heading level0 row4\" >Channel_Code</th>\n",
              "                        <td id=\"T_067bf926_c11e_11eb_ba03_0242ac1c0002row4_col0\" class=\"data row4 col0\" >0.15</td>\n",
              "                        <td id=\"T_067bf926_c11e_11eb_ba03_0242ac1c0002row4_col1\" class=\"data row4 col1\" >0.61</td>\n",
              "                        <td id=\"T_067bf926_c11e_11eb_ba03_0242ac1c0002row4_col2\" class=\"data row4 col2\" >0.10</td>\n",
              "                        <td id=\"T_067bf926_c11e_11eb_ba03_0242ac1c0002row4_col3\" class=\"data row4 col3\" >0.12</td>\n",
              "                        <td id=\"T_067bf926_c11e_11eb_ba03_0242ac1c0002row4_col4\" class=\"data row4 col4\" >1.00</td>\n",
              "                        <td id=\"T_067bf926_c11e_11eb_ba03_0242ac1c0002row4_col5\" class=\"data row4 col5\" >0.54</td>\n",
              "                        <td id=\"T_067bf926_c11e_11eb_ba03_0242ac1c0002row4_col6\" class=\"data row4 col6\" >0.31</td>\n",
              "                        <td id=\"T_067bf926_c11e_11eb_ba03_0242ac1c0002row4_col7\" class=\"data row4 col7\" >0.10</td>\n",
              "                        <td id=\"T_067bf926_c11e_11eb_ba03_0242ac1c0002row4_col8\" class=\"data row4 col8\" >0.25</td>\n",
              "                        <td id=\"T_067bf926_c11e_11eb_ba03_0242ac1c0002row4_col9\" class=\"data row4 col9\" >0.26</td>\n",
              "            </tr>\n",
              "            <tr>\n",
              "                        <th id=\"T_067bf926_c11e_11eb_ba03_0242ac1c0002level0_row5\" class=\"row_heading level0 row5\" >Vintage</th>\n",
              "                        <td id=\"T_067bf926_c11e_11eb_ba03_0242ac1c0002row5_col0\" class=\"data row5 col0\" >0.15</td>\n",
              "                        <td id=\"T_067bf926_c11e_11eb_ba03_0242ac1c0002row5_col1\" class=\"data row5 col1\" >0.63</td>\n",
              "                        <td id=\"T_067bf926_c11e_11eb_ba03_0242ac1c0002row5_col2\" class=\"data row5 col2\" >0.12</td>\n",
              "                        <td id=\"T_067bf926_c11e_11eb_ba03_0242ac1c0002row5_col3\" class=\"data row5 col3\" >0.03</td>\n",
              "                        <td id=\"T_067bf926_c11e_11eb_ba03_0242ac1c0002row5_col4\" class=\"data row5 col4\" >0.54</td>\n",
              "                        <td id=\"T_067bf926_c11e_11eb_ba03_0242ac1c0002row5_col5\" class=\"data row5 col5\" >1.00</td>\n",
              "                        <td id=\"T_067bf926_c11e_11eb_ba03_0242ac1c0002row5_col6\" class=\"data row5 col6\" >0.27</td>\n",
              "                        <td id=\"T_067bf926_c11e_11eb_ba03_0242ac1c0002row5_col7\" class=\"data row5 col7\" >0.17</td>\n",
              "                        <td id=\"T_067bf926_c11e_11eb_ba03_0242ac1c0002row5_col8\" class=\"data row5 col8\" >0.21</td>\n",
              "                        <td id=\"T_067bf926_c11e_11eb_ba03_0242ac1c0002row5_col9\" class=\"data row5 col9\" >0.28</td>\n",
              "            </tr>\n",
              "            <tr>\n",
              "                        <th id=\"T_067bf926_c11e_11eb_ba03_0242ac1c0002level0_row6\" class=\"row_heading level0 row6\" >Credit_Product</th>\n",
              "                        <td id=\"T_067bf926_c11e_11eb_ba03_0242ac1c0002row6_col0\" class=\"data row6 col0\" >0.08</td>\n",
              "                        <td id=\"T_067bf926_c11e_11eb_ba03_0242ac1c0002row6_col1\" class=\"data row6 col1\" >0.26</td>\n",
              "                        <td id=\"T_067bf926_c11e_11eb_ba03_0242ac1c0002row6_col2\" class=\"data row6 col2\" >0.08</td>\n",
              "                        <td id=\"T_067bf926_c11e_11eb_ba03_0242ac1c0002row6_col3\" class=\"data row6 col3\" >0.02</td>\n",
              "                        <td id=\"T_067bf926_c11e_11eb_ba03_0242ac1c0002row6_col4\" class=\"data row6 col4\" >0.31</td>\n",
              "                        <td id=\"T_067bf926_c11e_11eb_ba03_0242ac1c0002row6_col5\" class=\"data row6 col5\" >0.27</td>\n",
              "                        <td id=\"T_067bf926_c11e_11eb_ba03_0242ac1c0002row6_col6\" class=\"data row6 col6\" >1.00</td>\n",
              "                        <td id=\"T_067bf926_c11e_11eb_ba03_0242ac1c0002row6_col7\" class=\"data row6 col7\" >0.07</td>\n",
              "                        <td id=\"T_067bf926_c11e_11eb_ba03_0242ac1c0002row6_col8\" class=\"data row6 col8\" >-0.01</td>\n",
              "                        <td id=\"T_067bf926_c11e_11eb_ba03_0242ac1c0002row6_col9\" class=\"data row6 col9\" >0.57</td>\n",
              "            </tr>\n",
              "            <tr>\n",
              "                        <th id=\"T_067bf926_c11e_11eb_ba03_0242ac1c0002level0_row7\" class=\"row_heading level0 row7\" >Avg_Account_Balance</th>\n",
              "                        <td id=\"T_067bf926_c11e_11eb_ba03_0242ac1c0002row7_col0\" class=\"data row7 col0\" >0.02</td>\n",
              "                        <td id=\"T_067bf926_c11e_11eb_ba03_0242ac1c0002row7_col1\" class=\"data row7 col1\" >0.15</td>\n",
              "                        <td id=\"T_067bf926_c11e_11eb_ba03_0242ac1c0002row7_col2\" class=\"data row7 col2\" >0.08</td>\n",
              "                        <td id=\"T_067bf926_c11e_11eb_ba03_0242ac1c0002row7_col3\" class=\"data row7 col3\" >-0.04</td>\n",
              "                        <td id=\"T_067bf926_c11e_11eb_ba03_0242ac1c0002row7_col4\" class=\"data row7 col4\" >0.10</td>\n",
              "                        <td id=\"T_067bf926_c11e_11eb_ba03_0242ac1c0002row7_col5\" class=\"data row7 col5\" >0.17</td>\n",
              "                        <td id=\"T_067bf926_c11e_11eb_ba03_0242ac1c0002row7_col6\" class=\"data row7 col6\" >0.07</td>\n",
              "                        <td id=\"T_067bf926_c11e_11eb_ba03_0242ac1c0002row7_col7\" class=\"data row7 col7\" >1.00</td>\n",
              "                        <td id=\"T_067bf926_c11e_11eb_ba03_0242ac1c0002row7_col8\" class=\"data row7 col8\" >0.08</td>\n",
              "                        <td id=\"T_067bf926_c11e_11eb_ba03_0242ac1c0002row7_col9\" class=\"data row7 col9\" >0.05</td>\n",
              "            </tr>\n",
              "            <tr>\n",
              "                        <th id=\"T_067bf926_c11e_11eb_ba03_0242ac1c0002level0_row8\" class=\"row_heading level0 row8\" >Is_Active</th>\n",
              "                        <td id=\"T_067bf926_c11e_11eb_ba03_0242ac1c0002row8_col0\" class=\"data row8 col0\" >0.06</td>\n",
              "                        <td id=\"T_067bf926_c11e_11eb_ba03_0242ac1c0002row8_col1\" class=\"data row8 col1\" >0.22</td>\n",
              "                        <td id=\"T_067bf926_c11e_11eb_ba03_0242ac1c0002row8_col2\" class=\"data row8 col2\" >0.06</td>\n",
              "                        <td id=\"T_067bf926_c11e_11eb_ba03_0242ac1c0002row8_col3\" class=\"data row8 col3\" >0.08</td>\n",
              "                        <td id=\"T_067bf926_c11e_11eb_ba03_0242ac1c0002row8_col4\" class=\"data row8 col4\" >0.25</td>\n",
              "                        <td id=\"T_067bf926_c11e_11eb_ba03_0242ac1c0002row8_col5\" class=\"data row8 col5\" >0.21</td>\n",
              "                        <td id=\"T_067bf926_c11e_11eb_ba03_0242ac1c0002row8_col6\" class=\"data row8 col6\" >-0.01</td>\n",
              "                        <td id=\"T_067bf926_c11e_11eb_ba03_0242ac1c0002row8_col7\" class=\"data row8 col7\" >0.08</td>\n",
              "                        <td id=\"T_067bf926_c11e_11eb_ba03_0242ac1c0002row8_col8\" class=\"data row8 col8\" >1.00</td>\n",
              "                        <td id=\"T_067bf926_c11e_11eb_ba03_0242ac1c0002row8_col9\" class=\"data row8 col9\" >0.09</td>\n",
              "            </tr>\n",
              "            <tr>\n",
              "                        <th id=\"T_067bf926_c11e_11eb_ba03_0242ac1c0002level0_row9\" class=\"row_heading level0 row9\" >Is_Lead</th>\n",
              "                        <td id=\"T_067bf926_c11e_11eb_ba03_0242ac1c0002row9_col0\" class=\"data row9 col0\" >0.07</td>\n",
              "                        <td id=\"T_067bf926_c11e_11eb_ba03_0242ac1c0002row9_col1\" class=\"data row9 col1\" >0.23</td>\n",
              "                        <td id=\"T_067bf926_c11e_11eb_ba03_0242ac1c0002row9_col2\" class=\"data row9 col2\" >0.06</td>\n",
              "                        <td id=\"T_067bf926_c11e_11eb_ba03_0242ac1c0002row9_col3\" class=\"data row9 col3\" >0.01</td>\n",
              "                        <td id=\"T_067bf926_c11e_11eb_ba03_0242ac1c0002row9_col4\" class=\"data row9 col4\" >0.26</td>\n",
              "                        <td id=\"T_067bf926_c11e_11eb_ba03_0242ac1c0002row9_col5\" class=\"data row9 col5\" >0.28</td>\n",
              "                        <td id=\"T_067bf926_c11e_11eb_ba03_0242ac1c0002row9_col6\" class=\"data row9 col6\" >0.57</td>\n",
              "                        <td id=\"T_067bf926_c11e_11eb_ba03_0242ac1c0002row9_col7\" class=\"data row9 col7\" >0.05</td>\n",
              "                        <td id=\"T_067bf926_c11e_11eb_ba03_0242ac1c0002row9_col8\" class=\"data row9 col8\" >0.09</td>\n",
              "                        <td id=\"T_067bf926_c11e_11eb_ba03_0242ac1c0002row9_col9\" class=\"data row9 col9\" >1.00</td>\n",
              "            </tr>\n",
              "    </tbody></table>"
            ],
            "text/plain": [
              "<pandas.io.formats.style.Styler at 0x7f1025263c10>"
            ]
          },
          "metadata": {
            "tags": []
          },
          "execution_count": 86
        }
      ]
    },
    {
      "cell_type": "code",
      "metadata": {
        "colab": {
          "base_uri": "https://localhost:8080/"
        },
        "id": "aqD0rqvJT4RC",
        "outputId": "ade239e1-f95f-40f5-b39f-d72c7ca0ece5"
      },
      "source": [
        "df.corr()['Is_Lead'].sort_values()"
      ],
      "execution_count": 87,
      "outputs": [
        {
          "output_type": "execute_result",
          "data": {
            "text/plain": [
              "Occupation             0.012415\n",
              "Avg_Account_Balance    0.053370\n",
              "Region_Code            0.062501\n",
              "Gender                 0.072068\n",
              "Is_Active              0.085723\n",
              "Age                    0.230814\n",
              "Channel_Code           0.261211\n",
              "Vintage                0.279337\n",
              "Credit_Product         0.570449\n",
              "Is_Lead                1.000000\n",
              "Name: Is_Lead, dtype: float64"
            ]
          },
          "metadata": {
            "tags": []
          },
          "execution_count": 87
        }
      ]
    },
    {
      "cell_type": "code",
      "metadata": {
        "id": "WDMrWP2AY1D9"
      },
      "source": [
        "# X.drop(columns=['Region_Code','Gender','Avg_Account_Balance','Is_Active'],inplace=True)\n",
        "# X.shape"
      ],
      "execution_count": null,
      "outputs": []
    },
    {
      "cell_type": "code",
      "metadata": {
        "colab": {
          "base_uri": "https://localhost:8080/"
        },
        "id": "3dxtOb3SUT2A",
        "outputId": "5b17641f-2fbe-4e6a-e4ae-bec6c7ae119a"
      },
      "source": [
        "X_train, X_test, y_train, y_test = train_test_split(X, y, shuffle=True, stratify=y, random_state=1,test_size=0.001)\n",
        "\n",
        "print(X_train.shape, X_test.shape, y_train.shape, y_test.shape)"
      ],
      "execution_count": 136,
      "outputs": [
        {
          "output_type": "stream",
          "text": [
            "(245479, 21) (246, 21) (245479,) (246,)\n"
          ],
          "name": "stdout"
        }
      ]
    },
    {
      "cell_type": "code",
      "metadata": {
        "colab": {
          "base_uri": "https://localhost:8080/"
        },
        "id": "AzQrbOsbUZkR",
        "outputId": "76e2394b-1748-4819-f5a3-53a080a8bdf7"
      },
      "source": [
        "print(y_train.value_counts(normalize=True),'\\n\\n')\n",
        "print(y_test.value_counts(normalize=True))"
      ],
      "execution_count": 137,
      "outputs": [
        {
          "output_type": "stream",
          "text": [
            "0    0.76279\n",
            "1    0.23721\n",
            "Name: Is_Lead, dtype: float64 \n",
            "\n",
            "\n",
            "0    0.764228\n",
            "1    0.235772\n",
            "Name: Is_Lead, dtype: float64\n"
          ],
          "name": "stdout"
        }
      ]
    },
    {
      "cell_type": "code",
      "metadata": {
        "colab": {
          "base_uri": "https://localhost:8080/"
        },
        "id": "nM3-P2pfUklo",
        "outputId": "e2fca7b0-3382-48f1-f34d-1e06fa0133d2"
      },
      "source": [
        "# predicting all zero\n",
        "naive_preds = np.zeros(y_test.shape[0])\n",
        "print(len(naive_preds))\n",
        "print('roc:',roc_auc_score(y_test, naive_preds))\n",
        "print(\"classification report:->\\n\\n\",classification_report(y_test, naive_preds))"
      ],
      "execution_count": 92,
      "outputs": [
        {
          "output_type": "stream",
          "text": [
            "61432\n",
            "roc: 0.5\n",
            "classification report:->\n",
            "\n",
            "               precision    recall  f1-score   support\n",
            "\n",
            "           0       0.76      1.00      0.87     46860\n",
            "           1       0.00      0.00      0.00     14572\n",
            "\n",
            "    accuracy                           0.76     61432\n",
            "   macro avg       0.38      0.50      0.43     61432\n",
            "weighted avg       0.58      0.76      0.66     61432\n",
            "\n"
          ],
          "name": "stdout"
        }
      ]
    },
    {
      "cell_type": "code",
      "metadata": {
        "id": "cn8FQpOMUt4c"
      },
      "source": [
        "num_boost_rounds = 15000\n",
        "early_stopping_rounds = 30\n",
        "\n",
        "initial_params = {'objective': 'binary:logistic', 'eval_metric': 'auc'}"
      ],
      "execution_count": 132,
      "outputs": []
    },
    {
      "cell_type": "code",
      "metadata": {
        "id": "8VXGgdoYUuJ-"
      },
      "source": [
        "logit_cv = cross_val_score(estimator=LogisticRegression(), \n",
        "                            X=X_train, \n",
        "                            y=y_train, \n",
        "                            scoring='roc_auc',\n",
        "                            cv=StratifiedKFold(n_splits=5, random_state=1))"
      ],
      "execution_count": 94,
      "outputs": []
    },
    {
      "cell_type": "code",
      "metadata": {
        "id": "alH4vImmVVs9"
      },
      "source": [
        "rf_cv = cross_val_score(estimator=RandomForestClassifier(),\n",
        "                         X=X_train, \n",
        "                         y=y_train,\n",
        "                         scoring='roc_auc',\n",
        "                         cv=StratifiedKFold(n_splits=5, random_state=1))"
      ],
      "execution_count": 95,
      "outputs": []
    },
    {
      "cell_type": "code",
      "metadata": {
        "id": "JjVGrK2iVYpX"
      },
      "source": [
        "xgb_cv = cross_val_score(estimator=XGBClassifier(num_boost_rounds=num_boost_rounds, \n",
        "                                                 early_stopping_rounds=early_stopping_rounds,\n",
        "                                                 **initial_params),\n",
        "                          X=X_train,\n",
        "                          y=y_train,\n",
        "                          scoring='roc_auc',\n",
        "                          cv=StratifiedKFold(n_splits=5, random_state=1))"
      ],
      "execution_count": null,
      "outputs": []
    },
    {
      "cell_type": "code",
      "metadata": {
        "colab": {
          "base_uri": "https://localhost:8080/"
        },
        "id": "VStVciwdVc_y",
        "outputId": "1cd5081f-2216-4cc8-de2b-a5e8667e6907"
      },
      "source": [
        "print(f'Logistic Regression CV Mean AUC score: {logit_cv.mean()}')\n",
        "print(f'Random Forest CV Mean AUC score: {rf_cv.mean()}')\n",
        "print(f'XGBoost CV Mean AUC score: {xgb_cv.mean()}')"
      ],
      "execution_count": 97,
      "outputs": [
        {
          "output_type": "stream",
          "text": [
            "Logistic Regression CV Mean AUC score: 0.8530180844773193\n",
            "Random Forest CV Mean AUC score: 0.855787057012318\n",
            "XGBoost CV Mean AUC score: 0.8726306213571817\n"
          ],
          "name": "stdout"
        }
      ]
    },
    {
      "cell_type": "code",
      "metadata": {
        "colab": {
          "base_uri": "https://localhost:8080/",
          "height": 518
        },
        "id": "QocoijNqVhXs",
        "outputId": "50b137c4-5614-42e6-d01b-2dcb6596bd32"
      },
      "source": [
        "model_cv_results = {'logit': logit_cv, 'random_forest': rf_cv, 'xgb': xgb_cv}\n",
        "\n",
        "fig, ax = plt.subplots(figsize=(10,8))\n",
        "plt.boxplot(model_cv_results.values())\n",
        "ax.set_xticklabels(model_cv_results.keys())\n",
        "plt.title('AUC scores using Different Classification Algorithms')"
      ],
      "execution_count": 98,
      "outputs": [
        {
          "output_type": "execute_result",
          "data": {
            "text/plain": [
              "Text(0.5, 1.0, 'AUC scores using Different Classification Algorithms')"
            ]
          },
          "metadata": {
            "tags": []
          },
          "execution_count": 98
        },
        {
          "output_type": "display_data",
          "data": {
            "image/png": "[encoded data removed]",
            "text/plain": [
              "<Figure size 720x576 with 1 Axes>"
            ]
          },
          "metadata": {
            "tags": []
          }
        }
      ]
    },
    {
      "cell_type": "code",
      "metadata": {
        "id": "gflQTF4nVu8I"
      },
      "source": [
        " oversamp_pipeline = imblearn.pipeline.Pipeline([('oversample', RandomOverSampler(random_state=42)),\n",
        "                                                ('xgb', XGBClassifier(num_boost_rounds=num_boost_rounds, \n",
        "                                                                      early_stopping_rounds=early_stopping_rounds,\n",
        "                                                                      **initial_params))])\n",
        " \n",
        " undersamp_pipeline = imblearn.pipeline.Pipeline([('undersample', RandomUnderSampler(random_state=42)),\n",
        "                                                 ('xgb', XGBClassifier(num_boost_rounds=num_boost_rounds, \n",
        "                                                                       early_stopping_rounds=early_stopping_rounds,\n",
        "                                                                       **initial_params))])\n",
        "\n",
        "smote_pipeline = imblearn.pipeline.Pipeline([('smote', SMOTE(random_state=42)),\n",
        "                                             ('xgb', XGBClassifier(num_boost_rounds=num_boost_rounds, \n",
        "                                                                   early_stopping_rounds=early_stopping_rounds,\n",
        "                                                                   **initial_params))])"
      ],
      "execution_count": 114,
      "outputs": []
    },
    {
      "cell_type": "code",
      "metadata": {
        "id": "OEnol0Tjcdnr"
      },
      "source": [
        "sampling_methods = {'random_oversampling': oversamp_pipeline,\n",
        "                    'random_undersampling': undersamp_pipeline,\n",
        "                    'smote': smote_pipeline}"
      ],
      "execution_count": 115,
      "outputs": []
    },
    {
      "cell_type": "code",
      "metadata": {
        "colab": {
          "base_uri": "https://localhost:8080/"
        },
        "id": "g-t4omH4ch1R",
        "outputId": "9423efed-1771-429e-cd61-950d16aeb564"
      },
      "source": [
        "sampling_cv_results = {}\n",
        "\n",
        "for method, pipeline in sampling_methods.items():\n",
        "    cv_results = cross_val_score(pipeline, X_train.values, y_train, cv=StratifiedKFold(n_splits=5, random_state=1), scoring='roc_auc')\n",
        "    sampling_cv_results[method] = cv_results\n",
        "    print(method, cv_results.mean())"
      ],
      "execution_count": 108,
      "outputs": [
        {
          "output_type": "stream",
          "text": [
            "random_oversampling 0.8722675072598667\n",
            "random_undersampling 0.8720990078204555\n",
            "smote 0.8673794064678326\n"
          ],
          "name": "stdout"
        }
      ]
    },
    {
      "cell_type": "code",
      "metadata": {
        "colab": {
          "base_uri": "https://localhost:8080/",
          "height": 518
        },
        "id": "UkOZlZFjcoT8",
        "outputId": "08b6ce7a-1fa7-4230-d4ee-88fa0d2d9a56"
      },
      "source": [
        "fig, ax = plt.subplots(figsize=(10,8))\n",
        "plt.boxplot(sampling_cv_results.values())\n",
        "ax.set_xticklabels(sampling_cv_results.keys())\n",
        "plt.title('AUC scores of XGB Classifier using Different Sampling Methods')"
      ],
      "execution_count": 109,
      "outputs": [
        {
          "output_type": "execute_result",
          "data": {
            "text/plain": [
              "Text(0.5, 1.0, 'AUC scores of XGB Classifier using Different Sampling Methods')"
            ]
          },
          "metadata": {
            "tags": []
          },
          "execution_count": 109
        },
        {
          "output_type": "display_data",
          "data": {
            "image/png": "[encoded data removed]",
            "text/plain": [
              "<Figure size 720x576 with 1 Axes>"
            ]
          },
          "metadata": {
            "tags": []
          }
        }
      ]
    },
    {
      "cell_type": "code",
      "metadata": {
        "id": "9XBCcSD_fBYb"
      },
      "source": [
        "# Set up grid for hyperopt\n",
        "space = {\n",
        "    'max_depth': hp.quniform('max_depth', 4, 10, 2),\n",
        "    'min_child_weight': hp.quniform('min_child_weight', 1, 20, 2),\n",
        "    'gamma': hp.quniform('gamma', 0, 5, 0.5),\n",
        "    'subsample': hp.uniform('subsample', 0.5, 0.9),\n",
        "    'colsample_bytree': hp.uniform('colsample_bytree', 0.5, 0.9),\n",
        "    'eta': hp.uniform('eta', 0.01, 0.3),\n",
        "    'objective': 'binary:logistic',\n",
        "    'eval_metric': 'auc'\n",
        "}"
      ],
      "execution_count": 110,
      "outputs": []
    },
    {
      "cell_type": "code",
      "metadata": {
        "id": "B0itIhAQfjUX"
      },
      "source": [
        "# Objective function\n",
        "def objective(params):\n",
        "    params = {'max_depth': int(params['max_depth']),\n",
        "              'min_child_weight': int(params['min_child_weight']),\n",
        "              'gamma': params['gamma'],\n",
        "              'subsample': params['subsample'],\n",
        "              'colsample_bytree': params['colsample_bytree'],\n",
        "              'eta': params['eta'],\n",
        "              'objective': params['objective'],\n",
        "              'eval_metric': params['eval_metric']}\n",
        "    \n",
        "    xgb_clf = XGBClassifier(num_boost_rounds=num_boost_rounds, \n",
        "                            early_stopping_rounds=early_stopping_rounds,\n",
        "                            **params)\n",
        "    \n",
        "    best_score = cross_val_score(xgb_clf, X_train, y_train, scoring='roc_auc', cv=5, n_jobs=3).mean()\n",
        "    \n",
        "    loss = 1 - best_score \n",
        "    \n",
        "    return loss"
      ],
      "execution_count": 111,
      "outputs": []
    },
    {
      "cell_type": "code",
      "metadata": {
        "colab": {
          "base_uri": "https://localhost:8080/"
        },
        "id": "0BbtXzsVfnW7",
        "outputId": "b8cf8303-4fbc-4a73-eeb1-319fb16eafdf"
      },
      "source": [
        "best_result = fmin(fn=objective, space=space, max_evals=20, \n",
        "                   rstate=np.random.RandomState(42), algo=tpe.suggest)"
      ],
      "execution_count": 112,
      "outputs": [
        {
          "output_type": "stream",
          "text": [
            "100%|██████████| 20/20 [14:18<00:00, 42.90s/it, best loss: 0.1261133574748443]\n"
          ],
          "name": "stdout"
        }
      ]
    },
    {
      "cell_type": "code",
      "metadata": {
        "colab": {
          "base_uri": "https://localhost:8080/"
        },
        "id": "TVt_qiShfn8n",
        "outputId": "f4c8e87a-ec2d-4587-8859-cb69bf00f87b"
      },
      "source": [
        "best_params = best_result\n",
        "best_params['max_depth'] = int(best_params['max_depth'])\n",
        "best_params['min_child_weight'] = int(best_params['min_child_weight'])\n",
        "best_params['gamma'] = best_params['gamma']\n",
        "best_params['colsample_bytree'] = round(best_params['colsample_bytree'], 1)\n",
        "best_params['eta'] = round(best_params['eta'], 1)\n",
        "best_params['subsample'] = round(best_params['subsample'], 1)\n",
        "best_params"
      ],
      "execution_count": 113,
      "outputs": [
        {
          "output_type": "execute_result",
          "data": {
            "text/plain": [
              "{'colsample_bytree': 0.7,\n",
              " 'eta': 0.2,\n",
              " 'gamma': 4.5,\n",
              " 'max_depth': 6,\n",
              " 'min_child_weight': 16,\n",
              " 'subsample': 0.7}"
            ]
          },
          "metadata": {
            "tags": []
          },
          "execution_count": 113
        }
      ]
    },
    {
      "cell_type": "markdown",
      "metadata": {
        "id": "7EQGeAY_UjcP"
      },
      "source": [
        "###testing phase"
      ]
    },
    {
      "cell_type": "code",
      "metadata": {
        "id": "dLrudtQmUKuX"
      },
      "source": [
        "best_params={'colsample_bytree': 0.7,\n",
        "              'eta': 0.2,\n",
        "              'gamma': 4.5,\n",
        "              'max_depth': 6,\n",
        "              'min_child_weight': 16,\n",
        "              'subsample': 0.7}"
      ],
      "execution_count": 133,
      "outputs": []
    },
    {
      "cell_type": "code",
      "metadata": {
        "id": "cnWMCaAzf1aI"
      },
      "source": [
        "final_model = imblearn.pipeline.Pipeline([('smote', SMOTE(random_state=1)),\n",
        "                                          ('xgb', XGBClassifier(num_boost_rounds=num_boost_rounds,\n",
        "                                                                early_stopping_rounds=early_stopping_rounds, \n",
        "                                                                **best_params))])"
      ],
      "execution_count": 138,
      "outputs": []
    },
    {
      "cell_type": "code",
      "metadata": {
        "colab": {
          "base_uri": "https://localhost:8080/"
        },
        "id": "wV69o-0of17-",
        "outputId": "290e7f02-7b09-4e0a-9038-0673ad2e119c"
      },
      "source": [
        "final_model.fit(X_train, y_train)"
      ],
      "execution_count": 139,
      "outputs": [
        {
          "output_type": "execute_result",
          "data": {
            "text/plain": [
              "Pipeline(memory=None,\n",
              "         steps=[('smote',\n",
              "                 SMOTE(k_neighbors=5, kind='deprecated',\n",
              "                       m_neighbors='deprecated', n_jobs=1,\n",
              "                       out_step='deprecated', random_state=1, ratio=None,\n",
              "                       sampling_strategy='auto', svm_estimator='deprecated')),\n",
              "                ('xgb',\n",
              "                 XGBClassifier(base_score=0.5, booster='gbtree',\n",
              "                               colsample_bylevel=1, colsample_bynode=1,\n",
              "                               colsample_bytree=0.7, early_stopping_rounds=30,\n",
              "                               eta=0.2, gamma=4.5, learning_rate=0.1,\n",
              "                               max_delta_step=0, max_depth=6,\n",
              "                               min_child_weight=16, missing=None,\n",
              "                               n_estimators=100, n_jobs=1, nthread=None,\n",
              "                               num_boost_rounds=15000,\n",
              "                               objective='binary:logistic', random_state=0,\n",
              "                               reg_alpha=0, reg_lambda=1, scale_pos_weight=1,\n",
              "                               seed=None, silent=None, subsample=0.7,\n",
              "                               verbosity=1))],\n",
              "         verbose=False)"
            ]
          },
          "metadata": {
            "tags": []
          },
          "execution_count": 139
        }
      ]
    },
    {
      "cell_type": "code",
      "metadata": {
        "colab": {
          "base_uri": "https://localhost:8080/",
          "height": 585
        },
        "id": "ppS6QVkRltyS",
        "outputId": "8b1a1669-d7de-4219-9d7f-03ccbc4bffae"
      },
      "source": [
        "explainer = shap.TreeExplainer(final_model[1])\n",
        "shap_values = explainer.shap_values(X_test)\n",
        "shap.summary_plot(shap_values, X_test)"
      ],
      "execution_count": 61,
      "outputs": [
        {
          "output_type": "display_data",
          "data": {
            "image/png": "[encoded data removed]",
            "text/plain": [
              "<Figure size 576x684 with 2 Axes>"
            ]
          },
          "metadata": {
            "tags": []
          }
        }
      ]
    },
    {
      "cell_type": "code",
      "metadata": {
        "id": "NdGofQh9jCCY"
      },
      "source": [
        "final_preds = final_model.predict_proba(X_test.values)[:,1]"
      ],
      "execution_count": 140,
      "outputs": []
    },
    {
      "cell_type": "code",
      "metadata": {
        "colab": {
          "base_uri": "https://localhost:8080/"
        },
        "id": "9y90HmCEjPAX",
        "outputId": "f1506331-3b46-4a3c-e7e7-49deec9c56e1"
      },
      "source": [
        "pd.Series(final_preds).describe()"
      ],
      "execution_count": 141,
      "outputs": [
        {
          "output_type": "execute_result",
          "data": {
            "text/plain": [
              "count    246.000000\n",
              "mean       0.276501\n",
              "std        0.271088\n",
              "min        0.027736\n",
              "25%        0.087598\n",
              "50%        0.136274\n",
              "75%        0.365704\n",
              "max        0.996808\n",
              "dtype: float64"
            ]
          },
          "metadata": {
            "tags": []
          },
          "execution_count": 141
        }
      ]
    },
    {
      "cell_type": "code",
      "metadata": {
        "colab": {
          "base_uri": "https://localhost:8080/"
        },
        "id": "F4i9Kz7RjTuO",
        "outputId": "c05ed91b-c31b-41ac-cfc6-48cae4627648"
      },
      "source": [
        "roc_auc_score(y_test, final_preds)"
      ],
      "execution_count": 142,
      "outputs": [
        {
          "output_type": "execute_result",
          "data": {
            "text/plain": [
              "0.8566581071166545"
            ]
          },
          "metadata": {
            "tags": []
          },
          "execution_count": 142
        }
      ]
    },
    {
      "cell_type": "code",
      "metadata": {
        "colab": {
          "base_uri": "https://localhost:8080/"
        },
        "id": "crbmHvz4f6IR",
        "outputId": "e0a0b7d0-eea9-4fa9-eea5-3eb65b1b313f"
      },
      "source": [
        "df=pd.read_csv(test_dir)\n",
        "test_id=df['ID']\n",
        "df.drop(columns=['ID'],inplace=True)\n",
        "df['Credit_Product']=df['Credit_Product'].astype(str)\n",
        "le = preprocessing.LabelEncoder()\n",
        "# df['Age']=MinMaxScaler().fit_transform(np.array(df['Age']).reshape(-1,1))\n",
        "# df['Age']=(df['Age']/10-2).astype(int)\n",
        "df['Gender']=le.fit_transform(df['Gender'])\n",
        "df['Region_Code']=le.fit_transform(df['Region_Code'])\n",
        "df['Region_Code']=(df['Region_Code']/5).astype(int)\n",
        "df['Occupation']=le.fit_transform(df['Occupation'])\n",
        "df['Channel_Code']=le.fit_transform(df['Channel_Code'])\n",
        "df['Vintage']=le.fit_transform(df['Vintage'])\n",
        "df['Credit_Product']=le.fit_transform(df['Credit_Product'])\n",
        "df['Is_Active']=le.fit_transform(df['Is_Active'])\n",
        "# df['Avg_Account_Balance']=MinMaxScaler().fit_transform(np.array(df['Avg_Account_Balance']).reshape(-1,1))\n",
        "df['Avg_Account_Balance']=np.log(df['Avg_Account_Balance'])\n",
        "X_eval=df\n",
        "print(X_eval.shape)"
      ],
      "execution_count": 143,
      "outputs": [
        {
          "output_type": "stream",
          "text": [
            "(105312, 9)\n"
          ],
          "name": "stdout"
        }
      ]
    },
    {
      "cell_type": "code",
      "metadata": {
        "colab": {
          "base_uri": "https://localhost:8080/",
          "height": 203
        },
        "id": "PYWzoie38yiC",
        "outputId": "71ba405c-a883-42b2-8425-21e86da07c56"
      },
      "source": [
        "X_eval.head()"
      ],
      "execution_count": 51,
      "outputs": [
        {
          "output_type": "execute_result",
          "data": {
            "text/html": [
              "<div>\n",
              "<style scoped>\n",
              "    .dataframe tbody tr th:only-of-type {\n",
              "        vertical-align: middle;\n",
              "    }\n",
              "\n",
              "    .dataframe tbody tr th {\n",
              "        vertical-align: top;\n",
              "    }\n",
              "\n",
              "    .dataframe thead th {\n",
              "        text-align: right;\n",
              "    }\n",
              "</style>\n",
              "<table border=\"1\" class=\"dataframe\">\n",
              "  <thead>\n",
              "    <tr style=\"text-align: right;\">\n",
              "      <th></th>\n",
              "      <th>Gender</th>\n",
              "      <th>Age</th>\n",
              "      <th>Region_Code</th>\n",
              "      <th>Occupation</th>\n",
              "      <th>Channel_Code</th>\n",
              "      <th>Vintage</th>\n",
              "      <th>Credit_Product</th>\n",
              "      <th>Avg_Account_Balance</th>\n",
              "      <th>Is_Active</th>\n",
              "    </tr>\n",
              "  </thead>\n",
              "  <tbody>\n",
              "    <tr>\n",
              "      <th>0</th>\n",
              "      <td>1</td>\n",
              "      <td>0</td>\n",
              "      <td>0</td>\n",
              "      <td>1</td>\n",
              "      <td>0</td>\n",
              "      <td>9</td>\n",
              "      <td>1</td>\n",
              "      <td>13.517598</td>\n",
              "      <td>0</td>\n",
              "    </tr>\n",
              "    <tr>\n",
              "      <th>1</th>\n",
              "      <td>1</td>\n",
              "      <td>2</td>\n",
              "      <td>3</td>\n",
              "      <td>1</td>\n",
              "      <td>1</td>\n",
              "      <td>21</td>\n",
              "      <td>2</td>\n",
              "      <td>13.738129</td>\n",
              "      <td>0</td>\n",
              "    </tr>\n",
              "    <tr>\n",
              "      <th>2</th>\n",
              "      <td>1</td>\n",
              "      <td>1</td>\n",
              "      <td>4</td>\n",
              "      <td>2</td>\n",
              "      <td>0</td>\n",
              "      <td>4</td>\n",
              "      <td>0</td>\n",
              "      <td>12.282798</td>\n",
              "      <td>0</td>\n",
              "    </tr>\n",
              "    <tr>\n",
              "      <th>3</th>\n",
              "      <td>1</td>\n",
              "      <td>0</td>\n",
              "      <td>4</td>\n",
              "      <td>1</td>\n",
              "      <td>0</td>\n",
              "      <td>14</td>\n",
              "      <td>0</td>\n",
              "      <td>13.674028</td>\n",
              "      <td>0</td>\n",
              "    </tr>\n",
              "    <tr>\n",
              "      <th>4</th>\n",
              "      <td>0</td>\n",
              "      <td>0</td>\n",
              "      <td>4</td>\n",
              "      <td>1</td>\n",
              "      <td>0</td>\n",
              "      <td>6</td>\n",
              "      <td>0</td>\n",
              "      <td>13.395572</td>\n",
              "      <td>0</td>\n",
              "    </tr>\n",
              "  </tbody>\n",
              "</table>\n",
              "</div>"
            ],
            "text/plain": [
              "   Gender  Age  Region_Code  ...  Credit_Product  Avg_Account_Balance  Is_Active\n",
              "0       1    0            0  ...               1            13.517598          0\n",
              "1       1    2            3  ...               2            13.738129          0\n",
              "2       1    1            4  ...               0            12.282798          0\n",
              "3       1    0            4  ...               0            13.674028          0\n",
              "4       0    0            4  ...               0            13.395572          0\n",
              "\n",
              "[5 rows x 9 columns]"
            ]
          },
          "metadata": {
            "tags": []
          },
          "execution_count": 51
        }
      ]
    },
    {
      "cell_type": "code",
      "metadata": {
        "colab": {
          "base_uri": "https://localhost:8080/"
        },
        "id": "8EgAj3FHbTIk",
        "outputId": "b078109f-aabe-47c6-da22-f07453129c43"
      },
      "source": [
        "# X_eval.drop(columns=['Region_Code','Gender','Avg_Account_Balance','Is_Active'],inplace=True)\n",
        "# X_eval.shape\n",
        "X_eval=pd.get_dummies(X_eval, columns=cat_cols)\n",
        "X_eval.shape"
      ],
      "execution_count": 144,
      "outputs": [
        {
          "output_type": "execute_result",
          "data": {
            "text/plain": [
              "(105312, 21)"
            ]
          },
          "metadata": {
            "tags": []
          },
          "execution_count": 144
        }
      ]
    },
    {
      "cell_type": "code",
      "metadata": {
        "id": "bWOFaQH8jpGP"
      },
      "source": [
        "result = final_model.predict_proba(X_eval.values)[:,1]"
      ],
      "execution_count": 145,
      "outputs": []
    },
    {
      "cell_type": "code",
      "metadata": {
        "colab": {
          "base_uri": "https://localhost:8080/"
        },
        "id": "HFRJE9hqov4n",
        "outputId": "112fe652-6af7-4bc0-9534-40cf89c12882"
      },
      "source": [
        "a=final_model.predict(X_eval.values)\n",
        "a=pd.Series(a)\n",
        "len(a[a[:]==1])"
      ],
      "execution_count": 146,
      "outputs": [
        {
          "output_type": "execute_result",
          "data": {
            "text/plain": [
              "16645"
            ]
          },
          "metadata": {
            "tags": []
          },
          "execution_count": 146
        }
      ]
    },
    {
      "cell_type": "code",
      "metadata": {
        "colab": {
          "base_uri": "https://localhost:8080/",
          "height": 203
        },
        "id": "wExaszj2j6j0",
        "outputId": "b787bf85-ab6f-4b5d-be2e-75065f4691a1"
      },
      "source": [
        "final_result=pd.DataFrame()\n",
        "final_result[\"ID\"]=test_id\n",
        "final_result['Is_Lead']=result\n",
        "final_result.head()"
      ],
      "execution_count": 147,
      "outputs": [
        {
          "output_type": "execute_result",
          "data": {
            "text/html": [
              "<div>\n",
              "<style scoped>\n",
              "    .dataframe tbody tr th:only-of-type {\n",
              "        vertical-align: middle;\n",
              "    }\n",
              "\n",
              "    .dataframe tbody tr th {\n",
              "        vertical-align: top;\n",
              "    }\n",
              "\n",
              "    .dataframe thead th {\n",
              "        text-align: right;\n",
              "    }\n",
              "</style>\n",
              "<table border=\"1\" class=\"dataframe\">\n",
              "  <thead>\n",
              "    <tr style=\"text-align: right;\">\n",
              "      <th></th>\n",
              "      <th>ID</th>\n",
              "      <th>Is_Lead</th>\n",
              "    </tr>\n",
              "  </thead>\n",
              "  <tbody>\n",
              "    <tr>\n",
              "      <th>0</th>\n",
              "      <td>VBENBARO</td>\n",
              "      <td>0.068032</td>\n",
              "    </tr>\n",
              "    <tr>\n",
              "      <th>1</th>\n",
              "      <td>CCMEWNKY</td>\n",
              "      <td>0.920019</td>\n",
              "    </tr>\n",
              "    <tr>\n",
              "      <th>2</th>\n",
              "      <td>VK3KGA9M</td>\n",
              "      <td>0.091186</td>\n",
              "    </tr>\n",
              "    <tr>\n",
              "      <th>3</th>\n",
              "      <td>TT8RPZVC</td>\n",
              "      <td>0.038276</td>\n",
              "    </tr>\n",
              "    <tr>\n",
              "      <th>4</th>\n",
              "      <td>SHQZEYTZ</td>\n",
              "      <td>0.033389</td>\n",
              "    </tr>\n",
              "  </tbody>\n",
              "</table>\n",
              "</div>"
            ],
            "text/plain": [
              "         ID   Is_Lead\n",
              "0  VBENBARO  0.068032\n",
              "1  CCMEWNKY  0.920019\n",
              "2  VK3KGA9M  0.091186\n",
              "3  TT8RPZVC  0.038276\n",
              "4  SHQZEYTZ  0.033389"
            ]
          },
          "metadata": {
            "tags": []
          },
          "execution_count": 147
        }
      ]
    },
    {
      "cell_type": "code",
      "metadata": {
        "id": "NXPu0a7vj71i"
      },
      "source": [
        "final_result.to_csv('/content/drive/MyDrive/Colab Notebooks/Jobathon/data/final_result_03.csv', index=False)"
      ],
      "execution_count": 148,
      "outputs": []
    },
    {
      "cell_type": "code",
      "metadata": {
        "id": "at8Iu-oUhw8A"
      },
      "source": [
        "a=X_train.copy()"
      ],
      "execution_count": 116,
      "outputs": []
    },
    {
      "cell_type": "code",
      "metadata": {
        "id": "tsSE9qHNtrrk"
      },
      "source": [
        "all_data=pd.read_csv(test_dir)\n",
        "test_id=all_data['ID']\n",
        "\n",
        "all_data.drop(columns=['ID'],inplace=True)"
      ],
      "execution_count": 93,
      "outputs": []
    },
    {
      "cell_type": "code",
      "metadata": {
        "colab": {
          "base_uri": "https://localhost:8080/"
        },
        "id": "IKrXmX6mActT",
        "outputId": "8e696408-d49e-4455-c040-56f20cec85c0"
      },
      "source": [
        "np.sum(all_data.Credit_Product.isnull()==True)"
      ],
      "execution_count": 103,
      "outputs": [
        {
          "output_type": "execute_result",
          "data": {
            "text/plain": [
              "0"
            ]
          },
          "metadata": {
            "tags": []
          },
          "execution_count": 103
        }
      ]
    },
    {
      "cell_type": "code",
      "metadata": {
        "id": "svudYZH5HNPQ"
      },
      "source": [
        "all_data['Credit_Product']=df['Credit_Product'].astype(str)"
      ],
      "execution_count": 101,
      "outputs": []
    },
    {
      "cell_type": "code",
      "metadata": {
        "id": "QN9hxAQovZvE"
      },
      "source": [
        ""
      ],
      "execution_count": null,
      "outputs": []
    },
    {
      "cell_type": "code",
      "metadata": {
        "id": "yLqIr74tB4Ax"
      },
      "source": [
        "Index_label = df[df[\"Occupation\"]==\"Entrepreneur\"].index.tolist()\n",
        "label=df[df['Credit_Product']==\"nan\"].index.tolist()\n",
        "for x in Index_label:\n",
        "  if x in label:\n",
        "    df.loc[x,\"Credit_Product\"]=\"Yes\"\n",
        "\n",
        "Index_label = df[df[\"Occupation\"]==\"Salaried\"].index.tolist()\n",
        "label1=df[df['Age']>=20].index.tolist()\n",
        "label2=df[df['Age']<40].index.tolist()\n",
        "label1_s=set(label1)\n",
        "ll=label1_s.intersection(label2)\n",
        "label3=df[df['Credit_Product']==\"nan\"].index.tolist()\n",
        "for x in Index_label:\n",
        "  if x in ll and label3:\n",
        "    df.loc[x,\"Credit_Product\"]=\"No\"\n",
        "    \n",
        "Index_label = df[df[\"Occupation\"]==\"Salaried\"].index.tolist()\n",
        "label=df[df['Age']>=40].index.tolist()\n",
        "for x in Index_label:\n",
        "  if x in label:\n",
        "    df.loc[x,\"Credit_Product\"]=\"Yes\"\n",
        "Index_label = df[df[\"Occupation\"]==\"Self_Employed\"].index.tolist()\n",
        "label=df[df['Credit_Product']==\"nan\"].index.tolist()\n",
        "for x in Index_label:\n",
        "  if x in label:\n",
        "    df.loc[x,\"Credit_Product\"]=\"No\"\n",
        "\n",
        "Index_label = df[df[\"Occupation\"]==\"Other\"].index.tolist()\n",
        "label=df[df['Credit_Product']==\"nan\"].index.tolist()\n",
        "for x in Index_label:\n",
        "  if x in label:\n",
        "    df.loc[x,\"Credit_Product\"]=\"No\""
      ],
      "execution_count": 60,
      "outputs": []
    },
    {
      "cell_type": "code",
      "metadata": {
        "colab": {
          "base_uri": "https://localhost:8080/"
        },
        "id": "wU8cq6AyFZDp",
        "outputId": "6e274525-a5e6-41ec-bd7c-e09b9a91b410"
      },
      "source": [
        "a=all_data[all_data['Credit_Product']==\"nan\"].index.tolist()\n",
        "len(a)"
      ],
      "execution_count": 77,
      "outputs": [
        {
          "output_type": "execute_result",
          "data": {
            "text/plain": [
              "0"
            ]
          },
          "metadata": {
            "tags": []
          },
          "execution_count": 77
        }
      ]
    },
    {
      "cell_type": "code",
      "metadata": {
        "id": "j0-8RcrBLKHL"
      },
      "source": [
        "# Condition 1\n",
        "occ_list_1 = ['Entrepreneur']\n",
        "all_data.Credit_Product=np.where(all_data.Occupation.isin(occ_list_1),all_data.Credit_Product.fillna('Yes'),all_data.Credit_Product)\n",
        "\n",
        "# Condition 2\n",
        "\n",
        "occ_list_2 = ['Salaried']\n",
        "age_list_2 = np.arange(21,40).tolist()\n",
        "age_list_3 = np.arange(40,100).tolist()\n",
        "all_data.Credit_Product=np.where(all_data.Occupation.isin(occ_list_2) & all_data.Age.isin(age_list_2),all_data.Credit_Product.fillna('No'),all_data.Credit_Product)\n",
        "all_data.Credit_Product=np.where(all_data.Occupation.isin(occ_list_2) & all_data.Age.isin(age_list_3),all_data.Credit_Product.fillna('Yes'),all_data.Credit_Product)\n",
        "occ_list_3 = ['Self_Employed','Other']\n",
        "all_data.Credit_Product=np.where(all_data.Occupation.isin(occ_list_3),all_data.Credit_Product.fillna('No'),all_data.Credit_Product)\n"
      ],
      "execution_count": 102,
      "outputs": []
    },
    {
      "cell_type": "code",
      "metadata": {
        "id": "JqwIwVQjPur0"
      },
      "source": [
        ""
      ],
      "execution_count": null,
      "outputs": []
    }
  ]
}